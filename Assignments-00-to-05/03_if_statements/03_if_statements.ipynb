{
  "nbformat": 4,
  "nbformat_minor": 0,
  "metadata": {
    "colab": {
      "provenance": []
    },
    "kernelspec": {
      "name": "python3",
      "display_name": "Python 3"
    },
    "language_info": {
      "name": "python"
    }
  },
  "cells": [
    {
      "cell_type": "markdown",
      "source": [
        "# 01_print_events"
      ],
      "metadata": {
        "id": "5thkaamc_Xwg"
      }
    },
    {
      "cell_type": "code",
      "source": [
        "def main():\n",
        "    for i in range(20):\n",
        "        print(i * 2)\n",
        "\n",
        "if __name__ == \"__main__\":\n",
        "    main()"
      ],
      "metadata": {
        "colab": {
          "base_uri": "https://localhost:8080/"
        },
        "id": "tHAbQtUU_dY9",
        "outputId": "0a659914-2635-4a21-8611-264362d6b264"
      },
      "execution_count": 1,
      "outputs": [
        {
          "output_type": "stream",
          "name": "stdout",
          "text": [
            "0\n",
            "2\n",
            "4\n",
            "6\n",
            "8\n",
            "10\n",
            "12\n",
            "14\n",
            "16\n",
            "18\n",
            "20\n",
            "22\n",
            "24\n",
            "26\n",
            "28\n",
            "30\n",
            "32\n",
            "34\n",
            "36\n",
            "38\n"
          ]
        }
      ]
    },
    {
      "cell_type": "markdown",
      "source": [
        "# 02_international_voting_age"
      ],
      "metadata": {
        "id": "4IlWEp9wAEwT"
      }
    },
    {
      "cell_type": "code",
      "source": [
        "PETURKSBOUIPO_AGE = 16\n",
        "STANLAU_AGE = 25\n",
        "MAYENGUA_AGE = 48\n",
        "\n",
        "def main():\n",
        "    user_age = int(input(\"How old are you? \"))\n",
        "\n",
        "    if user_age >= PETURKSBOUIPO_AGE:\n",
        "        print(f\"You can vote in Peturksbouipo where the voting age is {PETURKSBOUIPO_AGE}.\")\n",
        "    else:\n",
        "        print(f\"You cannot vote in Peturksbouipo where the voting age is {PETURKSBOUIPO_AGE}.\")\n",
        "\n",
        "    if user_age >= STANLAU_AGE:\n",
        "        print(f\"You can vote in Stanlau where the voting age is {STANLAU_AGE}.\")\n",
        "    else:\n",
        "        print(f\"You cannot vote in Stanlau where the voting age is {STANLAU_AGE}.\")\n",
        "\n",
        "    if user_age >= MAYENGUA_AGE:\n",
        "        print(f\"You can vote in Mayengua where the voting age is {MAYENGUA_AGE}.\")\n",
        "    else:\n",
        "        print(f\"You cannot vote in Mayengua where the voting age is {MAYENGUA_AGE}.\")\n",
        "\n",
        "if __name__ == '__main__':\n",
        "    main()"
      ],
      "metadata": {
        "colab": {
          "base_uri": "https://localhost:8080/"
        },
        "id": "qhOaROxrAMTf",
        "outputId": "4456d327-8ca0-431f-d8ec-e716d142b45c"
      },
      "execution_count": 2,
      "outputs": [
        {
          "output_type": "stream",
          "name": "stdout",
          "text": [
            "How old are you? 21\n",
            "You can vote in Peturksbouipo where the voting age is 16.\n",
            "You cannot vote in Stanlau where the voting age is 25.\n",
            "You cannot vote in Mayengua where the voting age is 48.\n"
          ]
        }
      ]
    },
    {
      "cell_type": "markdown",
      "source": [
        "# 03_leap_year"
      ],
      "metadata": {
        "id": "HHBbKoylKz3t"
      }
    },
    {
      "cell_type": "code",
      "source": [
        "def main():\n",
        "    year = int(input('Please input a year: '))\n",
        "\n",
        "    if year % 4 == 0:\n",
        "        if year % 100 == 0:\n",
        "            if year % 400 == 0:\n",
        "                print(\"That's a leap year!\")\n",
        "            else:\n",
        "                print(\"That's not a leap year.\")\n",
        "        else:\n",
        "            print(\"That's a leap year!\")\n",
        "    else:\n",
        "        print(\"That's not a leap year.\")\n",
        "\n",
        "if __name__ == '__main__':\n",
        "    main()"
      ],
      "metadata": {
        "colab": {
          "base_uri": "https://localhost:8080/"
        },
        "id": "vf-SPsCnK7wh",
        "outputId": "87b2594f-a457-469e-9cce-0cdc5eda62a7"
      },
      "execution_count": 3,
      "outputs": [
        {
          "output_type": "stream",
          "name": "stdout",
          "text": [
            "Please input a year: 2025\n",
            "That's not a leap year.\n"
          ]
        }
      ]
    },
    {
      "cell_type": "markdown",
      "source": [
        "# 04_tall_enough_to_ride"
      ],
      "metadata": {
        "id": "tpt-bloEOyFj"
      }
    },
    {
      "cell_type": "code",
      "source": [
        "MINIMUM_HEIGHT: int = 50\n",
        "\n",
        "def main():\n",
        "    while True:\n",
        "        user_input = input(\"How tall are you? \")\n",
        "        if user_input == \"\":\n",
        "            break\n",
        "        try:\n",
        "            height = float(user_input)\n",
        "            if height >= MINIMUM_HEIGHT:\n",
        "                print(\"You're tall enough to ride!\")\n",
        "            else:\n",
        "                print(\"You're not tall enough to ride, but maybe next year!\")\n",
        "        except ValueError:\n",
        "            print(\"Please enter a valid number.\")\n",
        "\n",
        "if __name__ == '__main__':\n",
        "    main()"
      ],
      "metadata": {
        "colab": {
          "base_uri": "https://localhost:8080/"
        },
        "id": "4v_HypZXO4Fn",
        "outputId": "d22be546-8752-4edc-c8a9-ce2c942a3f0b"
      },
      "execution_count": 1,
      "outputs": [
        {
          "name": "stdout",
          "output_type": "stream",
          "text": [
            "How tall are you? 5.2\n",
            "You're not tall enough to ride, but maybe next year!\n",
            "How tall are you? \n"
          ]
        }
      ]
    },
    {
      "cell_type": "markdown",
      "source": [
        "# 05_random_numbers"
      ],
      "metadata": {
        "id": "je7fDePwsPmi"
      }
    },
    {
      "cell_type": "code",
      "source": [
        "import random\n",
        "\n",
        "N_NUMBERS: int = 10\n",
        "MIN_VALUE: int = 1\n",
        "MAX_VALUE: int = 100\n",
        "\n",
        "def main():\n",
        "    for _ in range(N_NUMBERS):\n",
        "        value = random.randint(MIN_VALUE, MAX_VALUE)\n",
        "        print(value, end=' ')\n",
        "    print()\n",
        "\n",
        "if __name__ == '__main__':\n",
        "    main()\n"
      ],
      "metadata": {
        "colab": {
          "base_uri": "https://localhost:8080/"
        },
        "id": "SvtEBC0XsUt5",
        "outputId": "c7288a4a-8429-4f43-9c34-fc376b7328f7"
      },
      "execution_count": 2,
      "outputs": [
        {
          "output_type": "stream",
          "name": "stdout",
          "text": [
            "89 60 28 86 43 33 15 34 78 30 \n"
          ]
        }
      ]
    }
  ]
}