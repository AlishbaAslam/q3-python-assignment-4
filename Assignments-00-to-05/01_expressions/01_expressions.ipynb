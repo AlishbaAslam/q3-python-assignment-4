{
  "nbformat": 4,
  "nbformat_minor": 0,
  "metadata": {
    "colab": {
      "provenance": []
    },
    "kernelspec": {
      "name": "python3",
      "display_name": "Python 3"
    },
    "language_info": {
      "name": "python"
    }
  },
  "cells": [
    {
      "cell_type": "markdown",
      "source": [
        "# 01_dicesimulator"
      ],
      "metadata": {
        "id": "sy4reSbL1BqQ"
      }
    },
    {
      "cell_type": "code",
      "source": [
        "import random\n",
        "\n",
        "NUM_SIDES = 6\n",
        "\n",
        "def roll_dice():\n",
        "    die1: int = random.randint(1, NUM_SIDES)\n",
        "    die2: int = random.randint(1, NUM_SIDES)\n",
        "    total: int = die1 + die2\n",
        "    print(\"Rolled die1:\", die1, \"die2:\", die2, \"| Total:\", total)\n",
        "\n",
        "def main():\n",
        "    die1: int = 10\n",
        "    print(\"die1 in main() starts as:\", die1)\n",
        "    roll_dice()\n",
        "    roll_dice()\n",
        "    roll_dice()\n",
        "    print(\"die1 in main() is still:\", die1)\n",
        "\n",
        "if __name__ == '__main__':\n",
        "    main()\n"
      ],
      "metadata": {
        "colab": {
          "base_uri": "https://localhost:8080/"
        },
        "id": "Ba6vIuIb1JB1",
        "outputId": "ac1dbb22-8447-4015-f651-9e24e60376ff"
      },
      "execution_count": null,
      "outputs": [
        {
          "output_type": "stream",
          "name": "stdout",
          "text": [
            "die1 in main() starts as: 10\n",
            "Rolled die1: 5 die2: 5 | Total: 10\n",
            "Rolled die1: 4 die2: 1 | Total: 5\n",
            "Rolled die1: 5 die2: 4 | Total: 9\n",
            "die1 in main() is still: 10\n"
          ]
        }
      ]
    },
    {
      "cell_type": "markdown",
      "source": [
        "# 02_e=mc2"
      ],
      "metadata": {
        "id": "cvh9L6Ku_elH"
      }
    },
    {
      "cell_type": "code",
      "source": [
        "C: int = 299792458  # The speed of light in m/s\n",
        "\n",
        "def main():\n",
        "    while True:\n",
        "        user_input = input(\"Enter kilos of mass (or press Enter to quit): \")\n",
        "\n",
        "        if user_input.strip() == \"\":\n",
        "            print(\"Goodbye!\")\n",
        "            break\n",
        "\n",
        "        try:\n",
        "            mass_in_kg: float = float(user_input)\n",
        "            energy_in_joules: float = mass_in_kg * (C ** 2)\n",
        "\n",
        "            print(\"\\ne = m * C^2...\")\n",
        "            print(f\"m = {mass_in_kg} kg\")\n",
        "            print(f\"C = {C} m/s\")\n",
        "            print(f\"{energy_in_joules} joules of energy!\\n\")\n",
        "        except ValueError:\n",
        "            print(\"Invalid input. Please enter a number.\\n\")\n",
        "\n",
        "if __name__ == '__main__':\n",
        "    main()"
      ],
      "metadata": {
        "colab": {
          "base_uri": "https://localhost:8080/"
        },
        "id": "wSb5Oy7r_lrP",
        "outputId": "0a3d09b2-c956-434f-9294-98aed2b8204c"
      },
      "execution_count": null,
      "outputs": [
        {
          "output_type": "stream",
          "name": "stdout",
          "text": [
            "Enter kilos of mass (or press Enter to quit): 120\n",
            "\n",
            "e = m * C^2...\n",
            "m = 120.0 kg\n",
            "C = 299792458 m/s\n",
            "1.0785062144841812e+19 joules of energy!\n",
            "\n",
            "Enter kilos of mass (or press Enter to quit): \n",
            "Goodbye!\n"
          ]
        }
      ]
    },
    {
      "cell_type": "markdown",
      "source": [
        "# 03_feet_to_inches"
      ],
      "metadata": {
        "id": "zM1iOykiVgoR"
      }
    },
    {
      "cell_type": "code",
      "source": [
        "INCHES_IN_FOOT: int = 12\n",
        "\n",
        "def main():\n",
        "    feet: float = float(input(\"Enter number of feet: \"))\n",
        "    inches: float = feet * INCHES_IN_FOOT\n",
        "    print(\"That is\", inches, \"inches!\")\n",
        "\n",
        "if __name__ == '__main__':\n",
        "    main()\n"
      ],
      "metadata": {
        "id": "yU2KRa60WMKr",
        "colab": {
          "base_uri": "https://localhost:8080/"
        },
        "outputId": "e0678647-4fc7-4ef1-9f3f-a061cfea2b52"
      },
      "execution_count": null,
      "outputs": [
        {
          "output_type": "stream",
          "name": "stdout",
          "text": [
            "Enter number of feet: 30\n",
            "That is 360.0 inches!\n"
          ]
        }
      ]
    },
    {
      "cell_type": "markdown",
      "source": [
        "# 04_pythagorean_theorem"
      ],
      "metadata": {
        "id": "7ZC89I_Kf9_h"
      }
    },
    {
      "cell_type": "code",
      "source": [
        "import math\n",
        "\n",
        "def main():\n",
        "    ab = float(input(\"Enter the length of AB: \"))\n",
        "    ac = float(input(\"Enter the length of AC: \"))\n",
        "\n",
        "    bc = math.sqrt(ab**2 + ac**2)\n",
        "\n",
        "    print(\"The length of BC (the hypotenuse) is:\", bc)\n",
        "\n",
        "if __name__ == '__main__':\n",
        "    main()\n"
      ],
      "metadata": {
        "colab": {
          "base_uri": "https://localhost:8080/"
        },
        "id": "QbDKUkWjgC6p",
        "outputId": "f9e5a5b3-b092-4f80-bd7d-d72e10ea64be"
      },
      "execution_count": null,
      "outputs": [
        {
          "output_type": "stream",
          "name": "stdout",
          "text": [
            "Enter the length of AB: 23\n",
            "Enter the length of AC: 6\n",
            "The length of BC (the hypotenuse) is: 23.769728648009426\n"
          ]
        }
      ]
    },
    {
      "cell_type": "markdown",
      "source": [
        "# 05_remainder_division"
      ],
      "metadata": {
        "id": "OZQp4CZvmmr8"
      }
    },
    {
      "cell_type": "code",
      "source": [
        "def main():\n",
        "    dividend: int = int(input(\"Please enter an integer to be divided: \"))\n",
        "    divisor: int = int(input(\"Please enter an integer to divide by: \"))\n",
        "\n",
        "    # Calculate quotient and remainder\n",
        "    quotient: int = dividend // divisor\n",
        "    remainder: int = dividend % divisor\n",
        "\n",
        "    print(\"The result of this division is \" + str(quotient) + \" with a remainder of \" + str(remainder))\n",
        "\n",
        "\n",
        "if __name__ == '__main__':\n",
        "    main()\n"
      ],
      "metadata": {
        "colab": {
          "base_uri": "https://localhost:8080/"
        },
        "id": "6qLHhQp9mtOo",
        "outputId": "050b5713-9726-4b3f-991c-1b64a57a2bc5"
      },
      "execution_count": null,
      "outputs": [
        {
          "output_type": "stream",
          "name": "stdout",
          "text": [
            "Please enter an integer to be divided: 4\n",
            "Please enter an integer to divide by: 7\n",
            "The result of this division is 0 with a remainder of 4\n"
          ]
        }
      ]
    },
    {
      "cell_type": "markdown",
      "source": [
        "# 06_rolldice"
      ],
      "metadata": {
        "id": "3ufsVNaLqol_"
      }
    },
    {
      "cell_type": "code",
      "source": [
        "import random\n",
        "\n",
        "NUM_SIDES: int = 6\n",
        "\n",
        "def main():\n",
        "    die1: int = random.randint(1, NUM_SIDES)\n",
        "    die2: int = random.randint(1, NUM_SIDES)\n",
        "\n",
        "    total: int = die1 + die2\n",
        "\n",
        "    print(\"Dice have\", NUM_SIDES, \"sides each.\")\n",
        "    print(\"First die:\", die1)\n",
        "    print(\"Second die:\", die2)\n",
        "    print(\"Total of two dice:\", total)\n",
        "\n",
        "if __name__ == '__main__':\n",
        "    main()\n"
      ],
      "metadata": {
        "colab": {
          "base_uri": "https://localhost:8080/"
        },
        "id": "i8Z53UlQqvo3",
        "outputId": "68fff62a-5b7c-4ad9-d84f-8113c27fc2cf"
      },
      "execution_count": null,
      "outputs": [
        {
          "output_type": "stream",
          "name": "stdout",
          "text": [
            "Dice have 6 sides each.\n",
            "First die: 6\n",
            "Second die: 1\n",
            "Total of two dice: 7\n"
          ]
        }
      ]
    },
    {
      "cell_type": "markdown",
      "source": [
        "# 07_seconds_in_year"
      ],
      "metadata": {
        "id": "Ax8CWzCmujsA"
      }
    },
    {
      "cell_type": "code",
      "source": [
        "DAYS_PER_YEAR: int = 365\n",
        "HOURS_PER_DAY: int = 24\n",
        "MIN_PER_HOUR: int = 60\n",
        "SEC_PER_MIN: int = 60\n",
        "\n",
        "def main():\n",
        "    seconds_in_a_year = DAYS_PER_YEAR * HOURS_PER_DAY * MIN_PER_HOUR * SEC_PER_MIN\n",
        "\n",
        "    print(\"There are \" + str(seconds_in_a_year) + \" seconds in a year!\")\n",
        "\n",
        "if __name__ == '__main__':\n",
        "    main()\n"
      ],
      "metadata": {
        "colab": {
          "base_uri": "https://localhost:8080/"
        },
        "id": "80SBkfVQunMZ",
        "outputId": "227584e8-3fe6-4f26-f543-7cb8efa7e157"
      },
      "execution_count": null,
      "outputs": [
        {
          "output_type": "stream",
          "name": "stdout",
          "text": [
            "There are 31536000 seconds in a year!\n"
          ]
        }
      ]
    },
    {
      "cell_type": "markdown",
      "source": [
        "# 08_tiny_mad_lib"
      ],
      "metadata": {
        "id": "oDDbdCKYwfD9"
      }
    },
    {
      "cell_type": "code",
      "source": [
        "SENTENCE_START: str = \"Giaic is fun. I learned to program and used Python to make my \"\n",
        "\n",
        "def main():\n",
        "    adjective: str = input(\"Please type an adjective and press enter. \")\n",
        "    noun: str = input(\"Please type a noun and press enter. \")\n",
        "    verb: str = input(\"Please type a verb and press enter. \")\n",
        "\n",
        "    print(SENTENCE_START + adjective + \" \" + noun + \" \" + verb + \"!\")\n",
        "\n",
        "if __name__ == '__main__':\n",
        "    main()\n"
      ],
      "metadata": {
        "colab": {
          "base_uri": "https://localhost:8080/"
        },
        "id": "oUcXIUyKwpHf",
        "outputId": "0ed1eedd-384c-4761-e06e-32c7c0b453c8"
      },
      "execution_count": null,
      "outputs": [
        {
          "output_type": "stream",
          "name": "stdout",
          "text": [
            "Please type an adjective and press enter. easy\n",
            "Please type a noun and press enter. code\n",
            "Please type a verb and press enter. understanding\n",
            "Giaic is fun. I learned to program and used Python to make my easy code understanding!\n"
          ]
        }
      ]
    }
  ]
}