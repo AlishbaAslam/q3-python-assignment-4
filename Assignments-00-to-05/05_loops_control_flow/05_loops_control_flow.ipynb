{
  "nbformat": 4,
  "nbformat_minor": 0,
  "metadata": {
    "colab": {
      "provenance": []
    },
    "kernelspec": {
      "name": "python3",
      "display_name": "Python 3"
    },
    "language_info": {
      "name": "python"
    }
  },
  "cells": [
    {
      "cell_type": "markdown",
      "source": [
        "# 00_guess_my_number"
      ],
      "metadata": {
        "id": "QlAl9RNoT9xx"
      }
    },
    {
      "cell_type": "code",
      "source": [
        "import random\n",
        "\n",
        "def main():\n",
        "    secret_number = random.randint(1, 99)\n",
        "\n",
        "    print(\"I am thinking of a number between 1 and 99...\")\n",
        "\n",
        "    guess = int(input(\"Enter a guess: \"))\n",
        "\n",
        "    while guess != secret_number:\n",
        "        if guess < secret_number:\n",
        "            print(\"Your guess is too low\")\n",
        "        else:\n",
        "            print(\"Your guess is too high\")\n",
        "\n",
        "        guess = int(input(\"Enter a new guess: \"))\n",
        "\n",
        "    print(f\"Congrats! The number was: {secret_number}\")\n",
        "\n",
        "if __name__ == '__main__':\n",
        "    main()"
      ],
      "metadata": {
        "colab": {
          "base_uri": "https://localhost:8080/"
        },
        "id": "30fMMmBZUDXs",
        "outputId": "fda1e87d-7c58-4940-d22c-948b7a89f68c"
      },
      "execution_count": 2,
      "outputs": [
        {
          "output_type": "stream",
          "name": "stdout",
          "text": [
            "I am thinking of a number between 1 and 99...\n",
            "Enter a guess: 2\n",
            "Your guess is too low\n",
            "Enter a new guess: 6\n",
            "Your guess is too low\n",
            "Enter a new guess: 20\n",
            "Your guess is too low\n",
            "Enter a new guess: 50\n",
            "Your guess is too low\n",
            "Enter a new guess: 70\n",
            "Your guess is too low\n",
            "Enter a new guess: 89\n",
            "Your guess is too high\n",
            "Enter a new guess: 80\n",
            "Your guess is too high\n",
            "Enter a new guess: 77\n",
            "Your guess is too high\n",
            "Enter a new guess: 60\n",
            "Your guess is too low\n",
            "Enter a new guess: 61\n",
            "Your guess is too low\n",
            "Enter a new guess: 62\n",
            "Your guess is too low\n",
            "Enter a new guess: 63\n",
            "Your guess is too low\n",
            "Enter a new guess: 70\n",
            "Your guess is too low\n",
            "Enter a new guess: 75\n",
            "Your guess is too high\n",
            "Enter a new guess: 74\n",
            "Your guess is too high\n",
            "Enter a new guess: 73\n",
            "Congrats! The number was: 73\n"
          ]
        }
      ]
    },
    {
      "cell_type": "markdown",
      "source": [
        "# 01_fibonacci"
      ],
      "metadata": {
        "id": "Cx-byP41Vmn-"
      }
    },
    {
      "cell_type": "code",
      "source": [
        "MAX_TERM_VALUE: int = 10000\n",
        "\n",
        "def main():\n",
        "    curr_term = 0\n",
        "    next_term = 1\n",
        "\n",
        "    while curr_term <= MAX_TERM_VALUE:\n",
        "        print(curr_term, end=' ')\n",
        "        term_after_next = curr_term + next_term\n",
        "        curr_term = next_term\n",
        "        next_term = term_after_next\n",
        "\n",
        "if __name__ == '__main__':\n",
        "    main()"
      ],
      "metadata": {
        "colab": {
          "base_uri": "https://localhost:8080/"
        },
        "id": "LH656RG1Vrde",
        "outputId": "5f04b735-58a4-424e-9bf3-bc3ab08d34d5"
      },
      "execution_count": 1,
      "outputs": [
        {
          "output_type": "stream",
          "name": "stdout",
          "text": [
            "0 1 1 2 3 5 8 13 21 34 55 89 144 233 377 610 987 1597 2584 4181 6765 "
          ]
        }
      ]
    },
    {
      "cell_type": "markdown",
      "source": [
        "# 02_print_events"
      ],
      "metadata": {
        "id": "nauVkgODhMG0"
      }
    },
    {
      "cell_type": "code",
      "source": [
        "def main():\n",
        "    for i in range(20):\n",
        "        print(i * 2)\n",
        "\n",
        "if __name__ == \"__main__\":\n",
        "    main()"
      ],
      "metadata": {
        "colab": {
          "base_uri": "https://localhost:8080/"
        },
        "id": "f4VFYs6HhbMQ",
        "outputId": "5d2e12eb-508f-4d90-c6bc-d01e2daf5f6c"
      },
      "execution_count": 2,
      "outputs": [
        {
          "output_type": "stream",
          "name": "stdout",
          "text": [
            "0\n",
            "2\n",
            "4\n",
            "6\n",
            "8\n",
            "10\n",
            "12\n",
            "14\n",
            "16\n",
            "18\n",
            "20\n",
            "22\n",
            "24\n",
            "26\n",
            "28\n",
            "30\n",
            "32\n",
            "34\n",
            "36\n",
            "38\n"
          ]
        }
      ]
    },
    {
      "cell_type": "markdown",
      "source": [
        "# 03_wholesome_machine"
      ],
      "metadata": {
        "id": "zgGzkhYziV53"
      }
    },
    {
      "cell_type": "code",
      "source": [
        "AFFIRMATION: str = \"I am capable of doing anything I put my mind to.\"\n",
        "\n",
        "def main():\n",
        "    print(\"Please type the following affirmation: \" + AFFIRMATION)\n",
        "\n",
        "    user_input = input()\n",
        "    while user_input != AFFIRMATION:\n",
        "        print(\"That was not the affirmation.\")\n",
        "        print(\"Please type the following affirmation: \" + AFFIRMATION)\n",
        "        user_input = input()\n",
        "\n",
        "    print(\"That's right! :)\")\n",
        "\n",
        "if __name__ == '__main__':\n",
        "    main()"
      ],
      "metadata": {
        "colab": {
          "base_uri": "https://localhost:8080/"
        },
        "id": "3dl2PnwZigaO",
        "outputId": "3e4871cf-3320-4468-da97-a6e829a5b3e3"
      },
      "execution_count": 5,
      "outputs": [
        {
          "output_type": "stream",
          "name": "stdout",
          "text": [
            "Please type the following affirmation: I am capable of doing anything I put my mind to.\n",
            "I am capable of doing anything I put my mind to.\n",
            "That's right! :)\n"
          ]
        }
      ]
    },
    {
      "cell_type": "markdown",
      "source": [
        "# 04_liftoff"
      ],
      "metadata": {
        "id": "NBUqhYqjlALx"
      }
    },
    {
      "cell_type": "code",
      "source": [
        "def main():\n",
        "    for i in range(10):\n",
        "        print(10 - i, end=' ')\n",
        "    print(\"Liftoff!\")\n",
        "\n",
        "if __name__ == '__main__':\n",
        "    main()"
      ],
      "metadata": {
        "colab": {
          "base_uri": "https://localhost:8080/"
        },
        "id": "YWDIs307lF-r",
        "outputId": "737a2ac7-50bf-4968-e15c-c0d4bc21df7d"
      },
      "execution_count": 6,
      "outputs": [
        {
          "output_type": "stream",
          "name": "stdout",
          "text": [
            "10 9 8 7 6 5 4 3 2 1 Liftoff!\n"
          ]
        }
      ]
    },
    {
      "cell_type": "markdown",
      "source": [
        "# 05_double_it"
      ],
      "metadata": {
        "id": "PCTYGELgl9KD"
      }
    },
    {
      "cell_type": "code",
      "source": [
        "def main():\n",
        "    curr_value = int(input(\"Enter a number: \"))\n",
        "\n",
        "    while curr_value < 100:\n",
        "        curr_value = curr_value * 2\n",
        "        print(curr_value, end=' ')\n",
        "\n",
        "if __name__ == '__main__':\n",
        "    main()"
      ],
      "metadata": {
        "colab": {
          "base_uri": "https://localhost:8080/"
        },
        "id": "2JV4zCWYmBlZ",
        "outputId": "4b279bfa-2f8d-43e1-b3c6-4423cd0c94c1"
      },
      "execution_count": 8,
      "outputs": [
        {
          "output_type": "stream",
          "name": "stdout",
          "text": [
            "Enter a number: 5\n",
            "10 20 40 80 160 "
          ]
        }
      ]
    }
  ]
}