{
  "nbformat": 4,
  "nbformat_minor": 0,
  "metadata": {
    "colab": {
      "provenance": []
    },
    "kernelspec": {
      "name": "python3",
      "display_name": "Python 3"
    },
    "language_info": {
      "name": "python"
    }
  },
  "cells": [
    {
      "cell_type": "markdown",
      "source": [
        "# 01_add_many_number"
      ],
      "metadata": {
        "id": "fdLUCQyc-Fb7"
      }
    },
    {
      "cell_type": "code",
      "source": [
        "def add_many_numbers(numbers) -> int:\n",
        "    total_so_far: int = 0\n",
        "    for number in numbers:\n",
        "        total_so_far += number\n",
        "    return total_so_far\n",
        "\n",
        "def main():\n",
        "    numbers: list[int] = [1, 2, 3, 4, 5]\n",
        "    sum_of_numbers: int = add_many_numbers(numbers)\n",
        "    print(sum_of_numbers)\n",
        "\n",
        "\n",
        "if __name__ == '__main__':\n",
        "    main()\n"
      ],
      "metadata": {
        "colab": {
          "base_uri": "https://localhost:8080/"
        },
        "id": "WqzrIMzG-UG1",
        "outputId": "c0ddb0e9-230a-43b0-f703-fd973f4f2b95"
      },
      "execution_count": null,
      "outputs": [
        {
          "output_type": "stream",
          "name": "stdout",
          "text": [
            "15\n"
          ]
        }
      ]
    },
    {
      "cell_type": "markdown",
      "source": [
        "# 02_double_list"
      ],
      "metadata": {
        "id": "W3NbOXVMI7SM"
      }
    },
    {
      "cell_type": "code",
      "source": [
        "def main():\n",
        "    numbers = [1, 2, 3, 4]\n",
        "\n",
        "    for i in range(len(numbers)):\n",
        "        numbers[i] = numbers[i] * 2\n",
        "\n",
        "    print(numbers)\n",
        "\n",
        "if __name__ == '__main__':\n",
        "    main()\n"
      ],
      "metadata": {
        "colab": {
          "base_uri": "https://localhost:8080/"
        },
        "id": "Ru_SF_8gJR5A",
        "outputId": "d4d4929d-f07c-4330-f3be-bae18d33e64b"
      },
      "execution_count": null,
      "outputs": [
        {
          "output_type": "stream",
          "name": "stdout",
          "text": [
            "[2, 4, 6, 8]\n"
          ]
        }
      ]
    },
    {
      "cell_type": "markdown",
      "source": [
        "# 04_flowing_with_data_structures"
      ],
      "metadata": {
        "id": "Zrwcdj3ULr9u"
      }
    },
    {
      "cell_type": "code",
      "source": [
        "def add_three_copies(my_list, data):\n",
        "    for i in range(3):\n",
        "        my_list.append(data)\n",
        "\n",
        "def main():\n",
        "    message = input(\"Enter a message to copy: \")\n",
        "    my_list = []\n",
        "    print(\"List before:\", my_list)\n",
        "    add_three_copies(my_list, message)\n",
        "    print(\"List after:\", my_list)\n",
        "\n",
        "if __name__ == \"__main__\":\n",
        "    main()\n"
      ],
      "metadata": {
        "colab": {
          "base_uri": "https://localhost:8080/"
        },
        "id": "EE_XXWCyL2yv",
        "outputId": "e608d202-ef21-42c4-f1f6-2570fb996819"
      },
      "execution_count": null,
      "outputs": [
        {
          "output_type": "stream",
          "name": "stdout",
          "text": [
            "Enter a message to copy: Python\n",
            "List before: []\n",
            "List after: ['Python', 'Python', 'Python']\n"
          ]
        }
      ]
    },
    {
      "cell_type": "markdown",
      "source": [
        "# 05_get_first_element"
      ],
      "metadata": {
        "id": "xo__gfGpCj6f"
      }
    },
    {
      "cell_type": "code",
      "source": [
        "def get_first_element(lst):\n",
        "    print(lst[0])\n",
        "\n",
        "def get_lst():\n",
        "    lst = []\n",
        "    elem = input(\"Please enter an element of the list or press enter to stop: \")\n",
        "    while elem != \"\":\n",
        "        lst.append(elem)\n",
        "        elem = input(\"Please enter an element of the list or press enter to stop: \")\n",
        "    return lst\n",
        "\n",
        "def main():\n",
        "    lst = get_lst()\n",
        "    get_first_element(lst)\n",
        "\n",
        "if __name__ == '__main__':\n",
        "    main()"
      ],
      "metadata": {
        "colab": {
          "base_uri": "https://localhost:8080/"
        },
        "id": "04K9n9cYC3ry",
        "outputId": "fcbd76c6-d137-4258-d79f-a29444ddac29"
      },
      "execution_count": 1,
      "outputs": [
        {
          "output_type": "stream",
          "name": "stdout",
          "text": [
            "Please enter an element of the list or press enter to stop: A\n",
            "Please enter an element of the list or press enter to stop: L\n",
            "Please enter an element of the list or press enter to stop: I\n",
            "Please enter an element of the list or press enter to stop: S\n",
            "Please enter an element of the list or press enter to stop: H\n",
            "Please enter an element of the list or press enter to stop: B\n",
            "Please enter an element of the list or press enter to stop: A\n",
            "Please enter an element of the list or press enter to stop: \n",
            "A\n"
          ]
        }
      ]
    },
    {
      "cell_type": "markdown",
      "source": [
        "# 06_get_last_element"
      ],
      "metadata": {
        "id": "XaW7G8WAJAQD"
      }
    },
    {
      "cell_type": "code",
      "source": [
        "def get_last_element(lst):\n",
        "    print(lst[-1])\n",
        "\n",
        "def get_lst():\n",
        "    lst = []\n",
        "    elem = input(\"Please enter an element of the list or press enter to stop: \")\n",
        "    while elem != \"\":\n",
        "        lst.append(elem)\n",
        "        elem = input(\"Please enter an element of the list or press enter to stop: \")\n",
        "    return lst\n",
        "\n",
        "def main():\n",
        "    lst = get_lst()\n",
        "    get_last_element(lst)\n",
        "\n",
        "if __name__ == '__main__':\n",
        "    main()\n"
      ],
      "metadata": {
        "colab": {
          "base_uri": "https://localhost:8080/"
        },
        "id": "4CZN6JaiJLxV",
        "outputId": "4c614b8e-4236-4530-818f-490dff147aa9"
      },
      "execution_count": 2,
      "outputs": [
        {
          "output_type": "stream",
          "name": "stdout",
          "text": [
            "Please enter an element of the list or press enter to stop: A\n",
            "Please enter an element of the list or press enter to stop: L\n",
            "Please enter an element of the list or press enter to stop: I\n",
            "Please enter an element of the list or press enter to stop: S\n",
            "Please enter an element of the list or press enter to stop: H\n",
            "Please enter an element of the list or press enter to stop: B\n",
            "Please enter an element of the list or press enter to stop: A\n",
            "Please enter an element of the list or press enter to stop: \n",
            "A\n"
          ]
        }
      ]
    },
    {
      "cell_type": "markdown",
      "source": [
        "# 07_get_list"
      ],
      "metadata": {
        "id": "4Zj5UdElJw-Y"
      }
    },
    {
      "cell_type": "code",
      "source": [
        "def main():\n",
        "    lst = []\n",
        "\n",
        "    while True:\n",
        "        val = input(\"Enter a value: \")\n",
        "        if val == \"\":\n",
        "            break\n",
        "        lst.append(val)\n",
        "\n",
        "    print(\"Here's the list:\", lst)\n",
        "\n",
        "if __name__ == '__main__':\n",
        "    main()"
      ],
      "metadata": {
        "colab": {
          "base_uri": "https://localhost:8080/"
        },
        "id": "kRYk-VglJ3Xi",
        "outputId": "f4c61d68-c82a-4c26-f1d7-9c034deab448"
      },
      "execution_count": 3,
      "outputs": [
        {
          "output_type": "stream",
          "name": "stdout",
          "text": [
            "Enter a value: Python\n",
            "Enter a value: Typescript\n",
            "Enter a value: Javascript\n",
            "Enter a value: \n",
            "Here's the list: ['Python', 'Typescript', 'Javascript']\n"
          ]
        }
      ]
    },
    {
      "cell_type": "markdown",
      "source": [
        "# 08_shorten"
      ],
      "metadata": {
        "id": "BZLELGLtPAk0"
      }
    },
    {
      "cell_type": "code",
      "source": [
        "MAX_LENGTH: int = 3\n",
        "\n",
        "def shorten(lst):\n",
        "    while len(lst) > MAX_LENGTH:\n",
        "        last_elem = lst.pop()\n",
        "        print(last_elem)\n",
        "\n",
        "def get_lst():\n",
        "    lst = []\n",
        "    elem = input(\"Please enter an element of the list or press enter to stop: \")\n",
        "    while elem != \"\":\n",
        "        lst.append(elem)\n",
        "        elem = input(\"Please enter an element of the list or press enter to stop: \")\n",
        "    return lst\n",
        "\n",
        "def main():\n",
        "    lst = get_lst()\n",
        "    shorten(lst)\n",
        "\n",
        "if __name__ == '__main__':\n",
        "    main()\n"
      ],
      "metadata": {
        "colab": {
          "base_uri": "https://localhost:8080/"
        },
        "id": "wM6XcYvLPFi1",
        "outputId": "a509e743-3ce2-4bbd-96ee-baf03bba8f25"
      },
      "execution_count": 4,
      "outputs": [
        {
          "output_type": "stream",
          "name": "stdout",
          "text": [
            "Please enter an element of the list or press enter to stop: 123\n",
            "Please enter an element of the list or press enter to stop: 456\n",
            "Please enter an element of the list or press enter to stop: 789\n",
            "Please enter an element of the list or press enter to stop: 101112\n",
            "Please enter an element of the list or press enter to stop: 13115\n",
            "Please enter an element of the list or press enter to stop: \n",
            "13115\n",
            "101112\n"
          ]
        }
      ]
    }
  ]
}