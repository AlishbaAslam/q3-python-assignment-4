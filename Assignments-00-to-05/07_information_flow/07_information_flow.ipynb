{
  "nbformat": 4,
  "nbformat_minor": 0,
  "metadata": {
    "colab": {
      "provenance": []
    },
    "kernelspec": {
      "name": "python3",
      "display_name": "Python 3"
    },
    "language_info": {
      "name": "python"
    }
  },
  "cells": [
    {
      "cell_type": "markdown",
      "source": [
        "# 00_choosing_returns"
      ],
      "metadata": {
        "id": "-aamacgoJy02"
      }
    },
    {
      "cell_type": "code",
      "source": [
        "ADULT_AGE: int = 18\n",
        "\n",
        "def is_adult(age: int) -> bool:\n",
        "    if age >= ADULT_AGE:\n",
        "        return True\n",
        "    return False\n",
        "\n",
        "def main():\n",
        "    age: int = int(input(\"How old is this person?: \"))\n",
        "    print(is_adult(age))\n",
        "\n",
        "if __name__ == \"__main__\":\n",
        "    main()"
      ],
      "metadata": {
        "colab": {
          "base_uri": "https://localhost:8080/"
        },
        "id": "gO6E6v2CJ3Zj",
        "outputId": "155009b2-b5a0-40bf-a6f1-f02224028b31"
      },
      "execution_count": null,
      "outputs": [
        {
          "output_type": "stream",
          "name": "stdout",
          "text": [
            "How old is this person?: 21\n",
            "True\n"
          ]
        }
      ]
    },
    {
      "cell_type": "markdown",
      "source": [
        "# 01_greetings"
      ],
      "metadata": {
        "id": "KPedC2H_Kfbq"
      }
    },
    {
      "cell_type": "code",
      "source": [
        "def main():\n",
        "    name: str = input(\"What's your name? \")\n",
        "    greet(name)\n",
        "\n",
        "def greet(name):\n",
        "    print(\"Greetings \" + name + \"!\")\n",
        "\n",
        "if __name__ == '__main__':\n",
        "    main()"
      ],
      "metadata": {
        "id": "X9fH958nKldz",
        "colab": {
          "base_uri": "https://localhost:8080/"
        },
        "outputId": "bca7a8ac-41ce-4c39-882f-2bc85ce39a7d"
      },
      "execution_count": 1,
      "outputs": [
        {
          "output_type": "stream",
          "name": "stdout",
          "text": [
            "What's your name? Alishba\n",
            "Greetings Alishba!\n"
          ]
        }
      ]
    },
    {
      "cell_type": "markdown",
      "source": [
        "# 02_in_range"
      ],
      "metadata": {
        "id": "WHR1cYSnVTaN"
      }
    },
    {
      "cell_type": "code",
      "source": [
        "def in_range(n, low, high):\n",
        "    if n >= low and n <= high:\n",
        "        return True\n",
        "    return False\n",
        "\n",
        "def main():\n",
        "    print(in_range(5, 1, 10))   # True\n",
        "    print(in_range(1, 1, 10))   # True\n",
        "    print(in_range(10, 1, 10))  # True\n",
        "    print(in_range(0, 1, 10))   # False\n",
        "    print(in_range(11, 1, 10))  # False\n",
        "\n",
        "\n",
        "if __name__ == '__main__':\n",
        "    main()"
      ],
      "metadata": {
        "colab": {
          "base_uri": "https://localhost:8080/"
        },
        "id": "TN0ECrG2VdMT",
        "outputId": "65358297-39ea-45df-f56f-2d15222749bf"
      },
      "execution_count": 2,
      "outputs": [
        {
          "output_type": "stream",
          "name": "stdout",
          "text": [
            "True\n",
            "True\n",
            "True\n",
            "False\n",
            "False\n"
          ]
        }
      ]
    },
    {
      "cell_type": "markdown",
      "source": [
        "# 03_in_stock"
      ],
      "metadata": {
        "id": "U4dWpWI_V1VZ"
      }
    },
    {
      "cell_type": "code",
      "source": [
        "def main():\n",
        "    fruit: str = input(\"Enter a fruit: \")\n",
        "\n",
        "    stock = num_in_stock(fruit)\n",
        "\n",
        "    if stock == 0:\n",
        "        print(\"This fruit is not in stock.\")\n",
        "    else:\n",
        "        print(\"This fruit is in stock! Here is how many:\")\n",
        "        print(stock)\n",
        "\n",
        "def num_in_stock(fruit):\n",
        "    if fruit == 'apple':\n",
        "        return 2\n",
        "    if fruit == 'durian':\n",
        "        return 4\n",
        "    if fruit == 'pear':\n",
        "        return 1000\n",
        "    else:\n",
        "        return 0\n",
        "\n",
        "if __name__ == '__main__':\n",
        "    main()"
      ],
      "metadata": {
        "colab": {
          "base_uri": "https://localhost:8080/"
        },
        "id": "vXg9HlH3V7sw",
        "outputId": "6882a490-2d89-43f1-9435-938f1bbd8775"
      },
      "execution_count": 3,
      "outputs": [
        {
          "output_type": "stream",
          "name": "stdout",
          "text": [
            "Enter a fruit: Apple\n",
            "This fruit is not in stock.\n"
          ]
        }
      ]
    },
    {
      "cell_type": "markdown",
      "source": [
        "# 04_multiple_returns"
      ],
      "metadata": {
        "id": "y3o-ZO9tWeGZ"
      }
    },
    {
      "cell_type": "code",
      "source": [
        "def get_user_info():\n",
        "    first_name = input(\"What is your first name?: \")\n",
        "    last_name = input(\"What is your last name?: \")\n",
        "    email_address = input(\"What is your email address?: \")\n",
        "\n",
        "    # Returning the data as a tuple (automatic when separated by commas)\n",
        "    return first_name, last_name, email_address\n",
        "\n",
        "def main():\n",
        "    user_data = get_user_info()\n",
        "    print(\"Received the following user data:\", user_data)\n",
        "\n",
        "if __name__ == \"__main__\":\n",
        "    main()"
      ],
      "metadata": {
        "colab": {
          "base_uri": "https://localhost:8080/"
        },
        "id": "yD3M6OAhWkj1",
        "outputId": "7607bf3b-1d0d-40e2-ba98-ff3e1ff62681"
      },
      "execution_count": 4,
      "outputs": [
        {
          "output_type": "stream",
          "name": "stdout",
          "text": [
            "What is your first name?: Alishba\n",
            "What is your last name?: Khan\n",
            "What is your email address?: abc@example.com\n",
            "Received the following user data: ('Alishba', 'Khan', 'abc@example.com')\n"
          ]
        }
      ]
    },
    {
      "cell_type": "markdown",
      "source": [
        "# 05_subtract_7"
      ],
      "metadata": {
        "id": "W5LB_xb6XJbX"
      }
    },
    {
      "cell_type": "code",
      "source": [
        "def main():\n",
        "    num: int = 7\n",
        "    num = subtract_seven(num)\n",
        "    print(\"this should be zero: \", num)\n",
        "\n",
        "def subtract_seven(num):\n",
        "    return num - 7\n",
        "\n",
        "if __name__ == '__main__':\n",
        "    main()"
      ],
      "metadata": {
        "colab": {
          "base_uri": "https://localhost:8080/"
        },
        "id": "6BJ9Yvf9XPxT",
        "outputId": "b2d0f007-f952-4ae3-c459-c8aeb3b8f81f"
      },
      "execution_count": 5,
      "outputs": [
        {
          "output_type": "stream",
          "name": "stdout",
          "text": [
            "this should be zero:  0\n"
          ]
        }
      ]
    }
  ]
}