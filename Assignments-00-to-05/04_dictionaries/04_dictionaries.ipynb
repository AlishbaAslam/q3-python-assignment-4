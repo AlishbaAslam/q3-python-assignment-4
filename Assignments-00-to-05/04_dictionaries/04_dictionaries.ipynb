{
  "nbformat": 4,
  "nbformat_minor": 0,
  "metadata": {
    "colab": {
      "provenance": []
    },
    "kernelspec": {
      "name": "python3",
      "display_name": "Python 3"
    },
    "language_info": {
      "name": "python"
    }
  },
  "cells": [
    {
      "cell_type": "markdown",
      "source": [
        "# 00_count_nums"
      ],
      "metadata": {
        "id": "3D1wKBR5vZua"
      }
    },
    {
      "cell_type": "code",
      "source": [
        "def get_user_numbers():\n",
        "    user_numbers = []\n",
        "    while True:\n",
        "        user_input = input(\"Enter a number: \")\n",
        "\n",
        "        if user_input == \"\":\n",
        "            break\n",
        "\n",
        "        try:\n",
        "            num = int(user_input)\n",
        "            user_numbers.append(num)\n",
        "        except ValueError:\n",
        "            print(\"Please enter a valid number.\")\n",
        "\n",
        "    return user_numbers\n",
        "\n",
        "\n",
        "def count_nums(num_lst):\n",
        "    num_dict = {}\n",
        "    for num in num_lst:\n",
        "        if num in num_dict:\n",
        "            num_dict[num] += 1\n",
        "        else:\n",
        "            num_dict[num] = 1\n",
        "    return num_dict\n",
        "\n",
        "\n",
        "def print_counts(num_dict):\n",
        "    for num in num_dict:\n",
        "        print(f\"{num} appears {num_dict[num]} times.\")\n",
        "\n",
        "\n",
        "def main():\n",
        "    user_numbers = get_user_numbers()\n",
        "    num_dict = count_nums(user_numbers)\n",
        "    print_counts(num_dict)\n",
        "\n",
        "\n",
        "if __name__ == '__main__':\n",
        "    main()\n"
      ],
      "metadata": {
        "colab": {
          "base_uri": "https://localhost:8080/"
        },
        "id": "LtV0QXgivfuT",
        "outputId": "f6a28463-8ae0-4c36-e1a5-6ec05ed712b3"
      },
      "execution_count": 1,
      "outputs": [
        {
          "output_type": "stream",
          "name": "stdout",
          "text": [
            "Enter a number: 3\n",
            "Enter a number: 5\n",
            "Enter a number: 5\n",
            "Enter a number: 7\n",
            "Enter a number: 7\n",
            "Enter a number: 7\n",
            "Enter a number: 9\n",
            "Enter a number: 1\n",
            "Enter a number: 1\n",
            "Enter a number: \n",
            "3 appears 1 times.\n",
            "5 appears 2 times.\n",
            "7 appears 3 times.\n",
            "9 appears 1 times.\n",
            "1 appears 2 times.\n"
          ]
        }
      ]
    },
    {
      "cell_type": "markdown",
      "source": [
        "# 01_phonebook"
      ],
      "metadata": {
        "id": "a3mTCZ4x8B9N"
      }
    },
    {
      "cell_type": "code",
      "source": [
        "def read_phone_numbers():\n",
        "    phonebook = {}\n",
        "\n",
        "    print(\"Enter names and numbers. Leave the name empty to finish.\")\n",
        "    while True:\n",
        "        name = input(\"Name: \")\n",
        "        if name == \"\":\n",
        "            break\n",
        "        number = input(\"Number: \")\n",
        "        phonebook[name] = number\n",
        "\n",
        "    return phonebook\n",
        "\n",
        "def print_phonebook(phonebook):\n",
        "    print(\"\\nPhonebook Entries:\")\n",
        "    for name in phonebook:\n",
        "        print(f\"{name} -> {phonebook[name]}\")\n",
        "\n",
        "def lookup_numbers(phonebook):\n",
        "    print(\"\\nLook up phone numbers. Leave name empty to quit.\")\n",
        "    while True:\n",
        "        name = input(\"Enter name to look up: \")\n",
        "        if name == \"\":\n",
        "            break\n",
        "        if name in phonebook:\n",
        "            print(f\"{name}'s number is {phonebook[name]}\")\n",
        "        else:\n",
        "            print(f\"{name} is not in the phonebook.\")\n",
        "\n",
        "\n",
        "def main():\n",
        "    phonebook = read_phone_numbers()\n",
        "    print_phonebook(phonebook)\n",
        "    lookup_numbers(phonebook)\n",
        "\n",
        "\n",
        "if __name__ == '__main__':\n",
        "    main()"
      ],
      "metadata": {
        "colab": {
          "base_uri": "https://localhost:8080/"
        },
        "id": "IYZyY7Jh8Lka",
        "outputId": "fca19b1c-2650-4274-9385-c679a08e98c9"
      },
      "execution_count": 6,
      "outputs": [
        {
          "name": "stdout",
          "output_type": "stream",
          "text": [
            "Enter names and numbers. Leave the name empty to finish.\n",
            "Name: Ali\n",
            "Number: 03129834569\n",
            "Name: \n",
            "\n",
            "Phonebook Entries:\n",
            "Ali -> 03129834569\n",
            "\n",
            "Look up phone numbers. Leave name empty to quit.\n",
            "Enter name to look up: \n"
          ]
        }
      ]
    },
    {
      "cell_type": "markdown",
      "source": [
        "# 02_pop_up_shop"
      ],
      "metadata": {
        "id": "1AE-SIb6IsfI"
      }
    },
    {
      "cell_type": "code",
      "source": [
        "def main():\n",
        "    fruits = {\n",
        "        'apple': 1.5,\n",
        "        'durian': 50,\n",
        "        'jackfruit': 80,\n",
        "        'kiwi': 1,\n",
        "        'rambutan': 1.5,\n",
        "        'mango': 5\n",
        "    }\n",
        "\n",
        "    total_cost = 0\n",
        "    for fruit in fruits:\n",
        "        quantity = int(input(f\"How many ({fruit}) do you want?: \"))\n",
        "        total_cost += fruits[fruit] * quantity\n",
        "\n",
        "    print(f\"Your total is ${total_cost}\")\n",
        "\n",
        "\n",
        "if __name__ == '__main__':\n",
        "    main()"
      ],
      "metadata": {
        "colab": {
          "base_uri": "https://localhost:8080/"
        },
        "id": "wo7s7m3RI5N9",
        "outputId": "871e13d3-0213-4482-eeb2-be924e912116"
      },
      "execution_count": 9,
      "outputs": [
        {
          "output_type": "stream",
          "name": "stdout",
          "text": [
            "How many (apple) do you want?: 1\n",
            "How many (durian) do you want?: 1\n",
            "How many (jackfruit) do you want?: 1\n",
            "How many (kiwi) do you want?: 1\n",
            "How many (rambutan) do you want?: 1\n",
            "How many (mango) do you want?: 1\n",
            "Your total is $139.0\n"
          ]
        }
      ]
    },
    {
      "cell_type": "markdown",
      "source": [
        "# 03_powerful_passwords"
      ],
      "metadata": {
        "id": "8CsLVd1aL_5I"
      }
    },
    {
      "cell_type": "code",
      "source": [
        "from hashlib import sha256\n",
        "\n",
        "def hash_password(password):\n",
        "    return sha256(password.encode()).hexdigest()\n",
        "\n",
        "def login(email, stored_logins, password_to_check):\n",
        "    if email not in stored_logins:\n",
        "        return False\n",
        "\n",
        "    return stored_logins[email] == hash_password(password_to_check)\n",
        "\n",
        "def main():\n",
        "    stored_logins = {\n",
        "        \"example@gmail.com\": \"5e884898da28047151d0e56f8dc6292773603d0d6aabbdd62a11ef721d1542d8\",  # password\n",
        "        \"code_in_placer@cip.org\": \"973607a4ae7b4cf7d96a100b0fb07e8519cc4f70441d41214a9f811577bb06cc\",  # Karel\n",
        "        \"student@stanford.edu\": \"882c6df720fd99f5eebb1581a1cf975625cea8a160283011c0b9512bb56c95fb\"   # 123!456?789\n",
        "    }\n",
        "\n",
        "    print(login(\"example@gmail.com\", stored_logins, \"word\"))            # False\n",
        "    print(login(\"example@gmail.com\", stored_logins, \"password\"))        # True\n",
        "\n",
        "    print(login(\"code_in_placer@cip.org\", stored_logins, \"Karel\"))      # True\n",
        "    print(login(\"code_in_placer@cip.org\", stored_logins, \"karel\"))      # False\n",
        "\n",
        "    print(login(\"student@stanford.edu\", stored_logins, \"password\"))     # False\n",
        "    print(login(\"student@stanford.edu\", stored_logins, \"123!456?789\"))  # True\n",
        "\n",
        "if __name__ == '__main__':\n",
        "    main()"
      ],
      "metadata": {
        "colab": {
          "base_uri": "https://localhost:8080/"
        },
        "id": "gKeH-lWaME4i",
        "outputId": "639460d1-8757-4ad2-f9b1-986b1eb86345"
      },
      "execution_count": 10,
      "outputs": [
        {
          "output_type": "stream",
          "name": "stdout",
          "text": [
            "False\n",
            "True\n",
            "False\n",
            "True\n",
            "False\n",
            "True\n"
          ]
        }
      ]
    }
  ]
}