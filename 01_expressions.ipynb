{
  "nbformat": 4,
  "nbformat_minor": 0,
  "metadata": {
    "colab": {
      "provenance": [],
      "authorship_tag": "ABX9TyNp/fXYgXwBHxoppxRAh7mJ",
      "include_colab_link": true
    },
    "kernelspec": {
      "name": "python3",
      "display_name": "Python 3"
    },
    "language_info": {
      "name": "python"
    }
  },
  "cells": [
    {
      "cell_type": "markdown",
      "metadata": {
        "id": "view-in-github",
        "colab_type": "text"
      },
      "source": [
        "<a href=\"https://colab.research.google.com/github/AlishbaAslam/q3-python-assignment-4/blob/main/01_expressions.ipynb\" target=\"_parent\"><img src=\"https://colab.research.google.com/assets/colab-badge.svg\" alt=\"Open In Colab\"/></a>"
      ]
    },
    {
      "cell_type": "markdown",
      "source": [
        "# 01_dicesimulator"
      ],
      "metadata": {
        "id": "sy4reSbL1BqQ"
      }
    },
    {
      "cell_type": "code",
      "source": [
        "import random\n",
        "\n",
        "NUM_SIDES = 6\n",
        "\n",
        "def roll_dice():\n",
        "    die1: int = random.randint(1, NUM_SIDES)\n",
        "    die2: int = random.randint(1, NUM_SIDES)\n",
        "    total: int = die1 + die2\n",
        "    print(\"Rolled die1:\", die1, \"die2:\", die2, \"| Total:\", total)\n",
        "\n",
        "def main():\n",
        "    die1: int = 10\n",
        "    print(\"die1 in main() starts as:\", die1)\n",
        "    roll_dice()\n",
        "    roll_dice()\n",
        "    roll_dice()\n",
        "    print(\"die1 in main() is still:\", die1)\n",
        "\n",
        "if __name__ == '__main__':\n",
        "    main()\n"
      ],
      "metadata": {
        "colab": {
          "base_uri": "https://localhost:8080/"
        },
        "id": "Ba6vIuIb1JB1",
        "outputId": "ac1dbb22-8447-4015-f651-9e24e60376ff"
      },
      "execution_count": null,
      "outputs": [
        {
          "output_type": "stream",
          "name": "stdout",
          "text": [
            "die1 in main() starts as: 10\n",
            "Rolled die1: 5 die2: 5 | Total: 10\n",
            "Rolled die1: 4 die2: 1 | Total: 5\n",
            "Rolled die1: 5 die2: 4 | Total: 9\n",
            "die1 in main() is still: 10\n"
          ]
        }
      ]
    },
    {
      "cell_type": "markdown",
      "source": [
        "# 02_e=mc2"
      ],
      "metadata": {
        "id": "cvh9L6Ku_elH"
      }
    },
    {
      "cell_type": "code",
      "source": [
        "C: int = 299792458  # The speed of light in m/s\n",
        "\n",
        "def main():\n",
        "    while True:\n",
        "        user_input = input(\"Enter kilos of mass (or press Enter to quit): \")\n",
        "\n",
        "        if user_input.strip() == \"\":\n",
        "            print(\"Goodbye!\")\n",
        "            break\n",
        "\n",
        "        try:\n",
        "            mass_in_kg: float = float(user_input)\n",
        "            formatted_mass_in_kg = \"\\033[1;3m\" + str(mass_in_kg) + \"\\033[0m\"\n",
        "            energy_in_joules: float = mass_in_kg * (C ** 2)\n",
        "\n",
        "            print(\"\\ne = m * C^2...\")\n",
        "            print(f\"m = {formatted_mass_in_kg} kg\")\n",
        "            print(f\"C = {C} m/s\")\n",
        "            print(f\"{energy_in_joules} joules of energy!\\n\")\n",
        "        except ValueError:\n",
        "            print(\"Invalid input. Please enter a number.\\n\")\n",
        "\n",
        "if __name__ == '__main__':\n",
        "    main()"
      ],
      "metadata": {
        "colab": {
          "base_uri": "https://localhost:8080/"
        },
        "id": "wSb5Oy7r_lrP",
        "outputId": "6d20fb51-31c9-47d1-b0f3-b8d5315c16d0"
      },
      "execution_count": 10,
      "outputs": [
        {
          "output_type": "stream",
          "name": "stdout",
          "text": [
            "Enter kilos of mass (or press Enter to quit): 120\n",
            "\n",
            "e = m * C^2...\n",
            "m = \u001b[1;3m120.0\u001b[0m kg\n",
            "C = 299792458 m/s\n",
            "1.0785062144841812e+19 joules of energy!\n",
            "\n",
            "Enter kilos of mass (or press Enter to quit): \n",
            "Goodbye!\n"
          ]
        }
      ]
    },
    {
      "cell_type": "markdown",
      "source": [
        "# 03_feet_to_inches"
      ],
      "metadata": {
        "id": "zM1iOykiVgoR"
      }
    },
    {
      "cell_type": "code",
      "source": [
        "INCHES_IN_FOOT: int = 12\n",
        "\n",
        "def main():\n",
        "    feet: float = float(input(\"Enter number of feet: \"))\n",
        "    inches: float = feet * INCHES_IN_FOOT\n",
        "    print(\"That is\", inches, \"inches!\")\n",
        "\n",
        "if __name__ == '__main__':\n",
        "    main()\n"
      ],
      "metadata": {
        "id": "yU2KRa60WMKr",
        "colab": {
          "base_uri": "https://localhost:8080/"
        },
        "outputId": "e0678647-4fc7-4ef1-9f3f-a061cfea2b52"
      },
      "execution_count": 11,
      "outputs": [
        {
          "output_type": "stream",
          "name": "stdout",
          "text": [
            "Enter number of feet: 30\n",
            "That is 360.0 inches!\n"
          ]
        }
      ]
    },
    {
      "cell_type": "markdown",
      "source": [
        "# 04_pythagorean_theorem"
      ],
      "metadata": {
        "id": "7ZC89I_Kf9_h"
      }
    },
    {
      "cell_type": "code",
      "source": [
        "import math\n",
        "\n",
        "def main():\n",
        "    ab = float(input(\"Enter the length of AB: \"))\n",
        "    ac = float(input(\"Enter the length of AC: \"))\n",
        "\n",
        "    bc = math.sqrt(ab**2 + ac**2)\n",
        "    formatted_bc = \"\\033[1;3m\" + str(bc) + \"\\033[0m\"\n",
        "\n",
        "    print(\"The length of BC (the hypotenuse) is:\", formatted_bc)\n",
        "\n",
        "if __name__ == '__main__':\n",
        "    main()\n"
      ],
      "metadata": {
        "colab": {
          "base_uri": "https://localhost:8080/"
        },
        "id": "QbDKUkWjgC6p",
        "outputId": "32485adc-5dd7-4f8b-b6e2-5b1b8c421ba9"
      },
      "execution_count": 14,
      "outputs": [
        {
          "output_type": "stream",
          "name": "stdout",
          "text": [
            "Enter the length of AB: 23\n",
            "Enter the length of AC: 6\n",
            "The length of BC (the hypotenuse) is: \u001b[1;3m23.769728648009426\u001b[0m\n"
          ]
        }
      ]
    },
    {
      "cell_type": "markdown",
      "source": [
        "# 05_remainder_division"
      ],
      "metadata": {
        "id": "OZQp4CZvmmr8"
      }
    },
    {
      "cell_type": "code",
      "source": [
        "def main():\n",
        "    dividend: int = int(input(\"Please enter an integer to be divided: \"))\n",
        "    divisor: int = int(input(\"Please enter an integer to divide by: \"))\n",
        "\n",
        "    # Calculate quotient and remainder\n",
        "    quotient: int = dividend // divisor\n",
        "    formatted_quotient = \"\\033[1;3m\" + str(quotient) + \"\\033[0m\"\n",
        "    remainder: int = dividend % divisor\n",
        "    formatted_remainder = \"\\033[1;3m\" + str(remainder) + \"\\033[0m\"\n",
        "\n",
        "    print(\"The result of this division is \" + str(formatted_quotient) + \" with a remainder of \" + str(formatted_remainder))\n",
        "\n",
        "\n",
        "if __name__ == '__main__':\n",
        "    main()\n"
      ],
      "metadata": {
        "colab": {
          "base_uri": "https://localhost:8080/"
        },
        "id": "6qLHhQp9mtOo",
        "outputId": "b08a6d1b-56e7-4c13-cac4-e16936340fd1"
      },
      "execution_count": 15,
      "outputs": [
        {
          "output_type": "stream",
          "name": "stdout",
          "text": [
            "Please enter an integer to be divided: 4\n",
            "Please enter an integer to divide by: 7\n",
            "The result of this division is \u001b[1;3m0\u001b[0m with a remainder of \u001b[1;3m4\u001b[0m\n"
          ]
        }
      ]
    },
    {
      "cell_type": "markdown",
      "source": [
        "# 06_rolldice"
      ],
      "metadata": {
        "id": "3ufsVNaLqol_"
      }
    },
    {
      "cell_type": "code",
      "source": [
        "import random\n",
        "\n",
        "NUM_SIDES: int = 6\n",
        "\n",
        "def main():\n",
        "    die1: int = random.randint(1, NUM_SIDES)\n",
        "    die2: int = random.randint(1, NUM_SIDES)\n",
        "\n",
        "    total: int = die1 + die2\n",
        "\n",
        "    print(\"Dice have\", NUM_SIDES, \"sides each.\")\n",
        "    print(\"First die:\", die1)\n",
        "    print(\"Second die:\", die2)\n",
        "    print(\"Total of two dice:\", total)\n",
        "\n",
        "if __name__ == '__main__':\n",
        "    main()\n"
      ],
      "metadata": {
        "colab": {
          "base_uri": "https://localhost:8080/"
        },
        "id": "i8Z53UlQqvo3",
        "outputId": "68fff62a-5b7c-4ad9-d84f-8113c27fc2cf"
      },
      "execution_count": 16,
      "outputs": [
        {
          "output_type": "stream",
          "name": "stdout",
          "text": [
            "Dice have 6 sides each.\n",
            "First die: 6\n",
            "Second die: 1\n",
            "Total of two dice: 7\n"
          ]
        }
      ]
    },
    {
      "cell_type": "markdown",
      "source": [
        "# 07_seconds_in_year"
      ],
      "metadata": {
        "id": "Ax8CWzCmujsA"
      }
    },
    {
      "cell_type": "code",
      "source": [
        "DAYS_PER_YEAR: int = 365\n",
        "HOURS_PER_DAY: int = 24\n",
        "MIN_PER_HOUR: int = 60\n",
        "SEC_PER_MIN: int = 60\n",
        "\n",
        "def main():\n",
        "    seconds_in_a_year = DAYS_PER_YEAR * HOURS_PER_DAY * MIN_PER_HOUR * SEC_PER_MIN\n",
        "\n",
        "    print(\"There are \" + str(seconds_in_a_year) + \" seconds in a year!\")\n",
        "\n",
        "if __name__ == '__main__':\n",
        "    main()\n"
      ],
      "metadata": {
        "colab": {
          "base_uri": "https://localhost:8080/"
        },
        "id": "80SBkfVQunMZ",
        "outputId": "227584e8-3fe6-4f26-f543-7cb8efa7e157"
      },
      "execution_count": 17,
      "outputs": [
        {
          "output_type": "stream",
          "name": "stdout",
          "text": [
            "There are 31536000 seconds in a year!\n"
          ]
        }
      ]
    },
    {
      "cell_type": "markdown",
      "source": [
        "# 08_tiny_mad_lib"
      ],
      "metadata": {
        "id": "oDDbdCKYwfD9"
      }
    },
    {
      "cell_type": "code",
      "source": [
        "SENTENCE_START: str = \"Giaic is fun. I learned to program and used Python to make my \"  # adjective noun verb\n",
        "\n",
        "def main():\n",
        "    adjective: str = input(\"Please type an adjective and press enter. \")\n",
        "    formatted_adjective = \"\\033[1;3m\" + str(adjective) + \"\\033[0m\"\n",
        "    noun: str = input(\"Please type a noun and press enter. \")\n",
        "    formatted_noun = \"\\033[1;3m\" + str(noun) + \"\\033[0m\"\n",
        "    verb: str = input(\"Please type a verb and press enter. \")\n",
        "    formatted_verb = \"\\033[1;3m\" + str(verb) + \"\\033[0m\"\n",
        "\n",
        "    print(SENTENCE_START + formatted_adjective + \" \" + formatted_noun + \" \" + formatted_verb + \"!\")\n",
        "\n",
        "if __name__ == '__main__':\n",
        "    main()\n"
      ],
      "metadata": {
        "colab": {
          "base_uri": "https://localhost:8080/"
        },
        "id": "oUcXIUyKwpHf",
        "outputId": "b09f70f7-ddd1-4773-90af-52f2cd7d4f85"
      },
      "execution_count": 21,
      "outputs": [
        {
          "output_type": "stream",
          "name": "stdout",
          "text": [
            "Please type an adjective and press enter. easy\n",
            "Please type a noun and press enter. code\n",
            "Please type a verb and press enter. understanding\n",
            "Giaic is fun. I learned to program and used Python to make my \u001b[1;3measy\u001b[0m \u001b[1;3mcode\u001b[0m \u001b[1;3munderstanding\u001b[0m!\n"
          ]
        }
      ]
    }
  ]
}