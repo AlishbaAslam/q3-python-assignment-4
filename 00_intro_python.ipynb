{
  "nbformat": 4,
  "nbformat_minor": 0,
  "metadata": {
    "colab": {
      "provenance": [],
      "authorship_tag": "ABX9TyPZmWWwJBrpYZNyldqXT+FW",
      "include_colab_link": true
    },
    "kernelspec": {
      "name": "python3",
      "display_name": "Python 3"
    },
    "language_info": {
      "name": "python"
    }
  },
  "cells": [
    {
      "cell_type": "markdown",
      "metadata": {
        "id": "view-in-github",
        "colab_type": "text"
      },
      "source": [
        "<a href=\"https://colab.research.google.com/github/AlishbaAslam/q3-python-assignment-4/blob/main/00_intro_python.ipynb\" target=\"_parent\"><img src=\"https://colab.research.google.com/assets/colab-badge.svg\" alt=\"Open In Colab\"/></a>"
      ]
    },
    {
      "cell_type": "markdown",
      "source": [
        "# 01_add_two_numbers"
      ],
      "metadata": {
        "id": "WyGPr840je8Q"
      }
    },
    {
      "cell_type": "code",
      "source": [
        "def main():\n",
        "    print(\"This program will add two numbers.\")\n",
        "    num1 = int(input(\"Enter your first number: \"))\n",
        "    num2 = int(input(\"Enter your second number: \"))\n",
        "    total = num1 + num2\n",
        "    print(f\"Sum of the two numbers is {total}.\")\n",
        "\n",
        "\n",
        "if __name__ == '__main__':\n",
        "    main()\n"
      ],
      "metadata": {
        "colab": {
          "base_uri": "https://localhost:8080/"
        },
        "id": "kZTvQ6TZjoSz",
        "outputId": "5bb18663-ec33-471e-ac0d-46a1db221146"
      },
      "execution_count": 1,
      "outputs": [
        {
          "output_type": "stream",
          "name": "stdout",
          "text": [
            "This program will add two numbers.\n",
            "Enter your first number: 2\n",
            "Enter your second number: 2\n",
            "Sum of the two numbers is 4.\n"
          ]
        }
      ]
    },
    {
      "cell_type": "markdown",
      "source": [
        "# 02_agreement_bot"
      ],
      "metadata": {
        "id": "Iyq2eVn1qIXO"
      }
    },
    {
      "cell_type": "code",
      "source": [
        "def main():\n",
        "    animal = input(\"What's your favorite animal? \")\n",
        "    formatted_animal = \"\\033[1;3m\" + animal + \"\\033[0m\"\n",
        "    print(f\"My favorite animal is also {formatted_animal}!\")\n",
        "\n",
        "if __name__ == '__main__':\n",
        "    main()\n"
      ],
      "metadata": {
        "colab": {
          "base_uri": "https://localhost:8080/"
        },
        "id": "Rll1mGO8qOfo",
        "outputId": "f939248a-a2b5-4d5b-e508-4e5588c60135"
      },
      "execution_count": 19,
      "outputs": [
        {
          "output_type": "stream",
          "name": "stdout",
          "text": [
            "What's your favorite animal? Cat\n",
            "My favorite animal is also \u001b[1;3mCat\u001b[0m!\n"
          ]
        }
      ]
    },
    {
      "cell_type": "markdown",
      "source": [
        "# 03_fahrenheit_to_celsius"
      ],
      "metadata": {
        "id": "yQu1lspqsxrt"
      }
    },
    {
      "cell_type": "code",
      "source": [
        "def main():\n",
        "    # User input for temperature in Fahrenheit\n",
        "    fahrenheit = float(input(\"Enter temperature in Fahrenheit: \"))\n",
        "\n",
        "    # Convert Fahrenheit to Celsius using the formula\n",
        "    celsius = (fahrenheit - 32) * 5.0 / 9.0\n",
        "\n",
        "    # Print the result\n",
        "    print(f\"Temperature: \\033[1;3m{fahrenheit}F\\033[0m = {celsius}C\")\n",
        "\n",
        "if __name__ == '__main__':\n",
        "    main()\n"
      ],
      "metadata": {
        "colab": {
          "base_uri": "https://localhost:8080/"
        },
        "id": "UmjbBKYkw65c",
        "outputId": "b44854c3-3098-44a4-bb7b-507fa2fadd12"
      },
      "execution_count": 20,
      "outputs": [
        {
          "output_type": "stream",
          "name": "stdout",
          "text": [
            "Enter temperature in Fahrenheit: 20\n",
            "Temperature: \u001b[1;3m20.0F\u001b[0m = -6.666666666666667C\n"
          ]
        }
      ]
    },
    {
      "cell_type": "markdown",
      "source": [
        "# 04_how_old_are_they"
      ],
      "metadata": {
        "id": "Q4SGylaJxT6B"
      }
    },
    {
      "cell_type": "code",
      "source": [
        "def main():\n",
        "    anton:int = 21\n",
        "    beth:int = anton + 6\n",
        "    chen:int = beth + 20\n",
        "    drew:int = chen + anton\n",
        "    ethan:int = chen\n",
        "\n",
        "    print(\"Anton is \" + str(anton))\n",
        "    print(\"Beth is \" + str(beth))\n",
        "    print(\"Chen is \" + str(chen))\n",
        "    print(\"Drew is \" + str(drew))\n",
        "    print(\"Ethan is \" + str(ethan))\n",
        "\n",
        "if __name__ == '__main__':\n",
        "    main()"
      ],
      "metadata": {
        "colab": {
          "base_uri": "https://localhost:8080/"
        },
        "id": "nnfcsUVGxelA",
        "outputId": "b0d29a92-2a72-46bf-eff8-12664ee9cf3a"
      },
      "execution_count": 1,
      "outputs": [
        {
          "output_type": "stream",
          "name": "stdout",
          "text": [
            "Anton is 21\n",
            "Beth is 27\n",
            "Chen is 47\n",
            "Drew is 68\n",
            "Ethan is 47\n"
          ]
        }
      ]
    },
    {
      "cell_type": "markdown",
      "source": [
        "# 05_triangle_perimeter"
      ],
      "metadata": {
        "id": "vbTinCakp6c-"
      }
    },
    {
      "cell_type": "code",
      "source": [
        "def main():\n",
        "    side1 = float(input(\"What is the length of side 1? \"))\n",
        "    side2 = float(input(\"What is the length of side 2? \"))\n",
        "    side3 = float(input(\"What is the length of side 3? \"))\n",
        "\n",
        "    perimeter = side1 + side2 + side3\n",
        "\n",
        "    print(f\"The perimeter of the triangle is \\033[1;3m{perimeter}\\033[0m\")\n",
        "\n",
        "if __name__ == '__main__':\n",
        "    main()"
      ],
      "metadata": {
        "colab": {
          "base_uri": "https://localhost:8080/"
        },
        "id": "LS5GssdoqJZB",
        "outputId": "e1b3e681-70da-4a05-bd4a-87ceca605424"
      },
      "execution_count": 13,
      "outputs": [
        {
          "output_type": "stream",
          "name": "stdout",
          "text": [
            "What is the length of side 1? 12\n",
            "What is the length of side 2? 12\n",
            "What is the length of side 3? 12\n",
            "The perimeter of the triangle is \u001b[1;3m36.0\u001b[0m\n"
          ]
        }
      ]
    },
    {
      "cell_type": "markdown",
      "source": [
        "# 06_square_number"
      ],
      "metadata": {
        "id": "qYAmSO3TSH2h"
      }
    },
    {
      "cell_type": "code",
      "source": [
        "def main():\n",
        "    num:int = int(input(\"Type a number to see its square: \"))\n",
        "    print(f\"\\033[1;3m{num}\\033[0m squared is {num ** 2}\")\n",
        "\n",
        "if __name__ == '__main__':\n",
        "    main()\n"
      ],
      "metadata": {
        "colab": {
          "base_uri": "https://localhost:8080/"
        },
        "id": "yH2opTm7SQLX",
        "outputId": "b32ada28-183d-4e94-8f35-0685f38be163"
      },
      "execution_count": 22,
      "outputs": [
        {
          "output_type": "stream",
          "name": "stdout",
          "text": [
            "Type a number to see its square: 2\n",
            "\u001b[1;3m2\u001b[0m squared is 4\n"
          ]
        }
      ]
    }
  ]
}