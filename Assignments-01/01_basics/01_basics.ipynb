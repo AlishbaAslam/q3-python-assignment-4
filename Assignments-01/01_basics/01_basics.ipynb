{
  "nbformat": 4,
  "nbformat_minor": 0,
  "metadata": {
    "colab": {
      "provenance": []
    },
    "kernelspec": {
      "name": "python3",
      "display_name": "Python 3"
    },
    "language_info": {
      "name": "python"
    }
  },
  "cells": [
    {
      "cell_type": "markdown",
      "source": [
        "# 00_joke_bot"
      ],
      "metadata": {
        "id": "bvM3uWAGZOTb"
      }
    },
    {
      "cell_type": "code",
      "source": [
        "PROMPT: str = \"What do you want? \"\n",
        "JOKE: str = (\"Here is a joke for you! Panaversity GPT - Sophia is heading out to the grocery store. \"\n",
        "             \"A programmer tells her: get a liter of milk, and if they have eggs, get 12. \"\n",
        "             \"Sophia returns with 13 liters of milk. The programmer asks why and Sophia replies: \"\n",
        "             \"'because they had eggs'\")\n",
        "SORRY: str = \"Sorry I only tell jokes\"\n",
        "\n",
        "def main():\n",
        "    user_input = input(PROMPT)\n",
        "\n",
        "    if user_input == \"Joke\":\n",
        "        print(JOKE)\n",
        "    else:\n",
        "        print(SORRY)\n",
        "\n",
        "if __name__ == \"__main__\":\n",
        "    main()"
      ],
      "metadata": {
        "colab": {
          "base_uri": "https://localhost:8080/"
        },
        "id": "HaYZaRDtZU_5",
        "outputId": "af0cc648-f4d3-43da-c91f-2671c46e2e0a"
      },
      "execution_count": 5,
      "outputs": [
        {
          "output_type": "stream",
          "name": "stdout",
          "text": [
            "What do you want? nothing\n",
            "Sorry I only tell jokes\n"
          ]
        }
      ]
    },
    {
      "cell_type": "markdown",
      "source": [
        "# 01_double_it"
      ],
      "metadata": {
        "id": "JwDyIRY-ahus"
      }
    },
    {
      "cell_type": "code",
      "source": [
        "def main():\n",
        "    curr_value = int(input(\"Enter a number: \"))\n",
        "\n",
        "    # Double and print values until curr_value is 100 or more\n",
        "    while curr_value < 100:\n",
        "        curr_value = curr_value * 2\n",
        "        print(curr_value, end=' ')\n",
        "\n",
        "if __name__ == '__main__':\n",
        "    main()"
      ],
      "metadata": {
        "colab": {
          "base_uri": "https://localhost:8080/"
        },
        "id": "Dga2-oFWaqoO",
        "outputId": "7dca58ff-86a3-4076-8701-957a9fd16084"
      },
      "execution_count": 6,
      "outputs": [
        {
          "output_type": "stream",
          "name": "stdout",
          "text": [
            "Enter a number: 2\n",
            "4 8 16 32 64 128 "
          ]
        }
      ]
    },
    {
      "cell_type": "markdown",
      "source": [
        "# 02_liftoff"
      ],
      "metadata": {
        "id": "vbNV8OewcJzo"
      }
    },
    {
      "cell_type": "code",
      "source": [
        "def main():\n",
        "    for i in range(10):\n",
        "        print(10 - i, end=' ')\n",
        "    print(\"Liftoff!\")\n",
        "\n",
        "if __name__ == '__main__':\n",
        "    main()"
      ],
      "metadata": {
        "colab": {
          "base_uri": "https://localhost:8080/"
        },
        "id": "-XxAGE6KcS1C",
        "outputId": "e3cab75d-9f8d-4f1c-cf36-1b06478afde2"
      },
      "execution_count": 7,
      "outputs": [
        {
          "output_type": "stream",
          "name": "stdout",
          "text": [
            "10 9 8 7 6 5 4 3 2 1 Liftoff!\n"
          ]
        }
      ]
    },
    {
      "cell_type": "markdown",
      "source": [
        "# 03_guess_my_number"
      ],
      "metadata": {
        "id": "mDAz8UmPchzz"
      }
    },
    {
      "cell_type": "code",
      "source": [
        "import random\n",
        "\n",
        "def main():\n",
        "    secret_number = random.randint(1, 99)\n",
        "    print(\"I am thinking of a number between 1 and 99...\")\n",
        "    print(\"Type 'exit' or 'q' anytime to quit.\\n\")\n",
        "\n",
        "    while True:\n",
        "        guess_input = input(\"Enter a guess: \")\n",
        "\n",
        "        # Check if user wants to exit\n",
        "        if guess_input.lower() in ['exit', 'q']:\n",
        "            print(\"You exited the game. The number was:\", secret_number)\n",
        "            break\n",
        "\n",
        "        # Check if input is a valid number\n",
        "        if not guess_input.isdigit():\n",
        "            print(\"Please enter a valid number!\")\n",
        "            continue\n",
        "\n",
        "        guess = int(guess_input)\n",
        "\n",
        "        if guess < secret_number:\n",
        "            print(\"Your guess is too low\\n\")\n",
        "        elif guess > secret_number:\n",
        "            print(\"Your guess is too high\\n\")\n",
        "        else:\n",
        "            print(\"Congrats! The number was:\", secret_number)\n",
        "            break\n",
        "\n",
        "if __name__ == '__main__':\n",
        "    main()"
      ],
      "metadata": {
        "colab": {
          "base_uri": "https://localhost:8080/"
        },
        "id": "r-xRKds8ddf-",
        "outputId": "c0937f38-c364-497a-dcea-88ad60ad64ab"
      },
      "execution_count": 13,
      "outputs": [
        {
          "output_type": "stream",
          "name": "stdout",
          "text": [
            "I am thinking of a number between 1 and 99...\n",
            "Type 'exit' or 'q' anytime to quit.\n",
            "\n",
            "Enter a guess: 1\n",
            "Your guess is too low\n",
            "\n",
            "Enter a guess: q\n",
            "You exited the game. The number was: 84\n"
          ]
        }
      ]
    },
    {
      "cell_type": "markdown",
      "source": [
        "# 04_random_numbers"
      ],
      "metadata": {
        "id": "VHtMM8l-eSBy"
      }
    },
    {
      "cell_type": "code",
      "source": [
        "import random\n",
        "\n",
        "N_NUMBERS: int = 10\n",
        "MIN_VALUE: int = 1\n",
        "MAX_VALUE: int = 100\n",
        "\n",
        "def main():\n",
        "    # Generate and print 10 random numbers in the specified range\n",
        "    for _ in range(N_NUMBERS):\n",
        "        value = random.randint(MIN_VALUE, MAX_VALUE)\n",
        "        print(value, end=' ')\n",
        "    print()\n",
        "\n",
        "if __name__ == '__main__':\n",
        "    main()"
      ],
      "metadata": {
        "colab": {
          "base_uri": "https://localhost:8080/"
        },
        "id": "IKoWxHjyeYnG",
        "outputId": "276de08c-6cba-4d1b-cb46-855b9918ada1"
      },
      "execution_count": 14,
      "outputs": [
        {
          "output_type": "stream",
          "name": "stdout",
          "text": [
            "30 41 16 3 64 57 50 16 59 40 \n"
          ]
        }
      ]
    }
  ]
}