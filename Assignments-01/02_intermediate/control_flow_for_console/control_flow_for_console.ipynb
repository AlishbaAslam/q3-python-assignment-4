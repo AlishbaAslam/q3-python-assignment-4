{
  "nbformat": 4,
  "nbformat_minor": 0,
  "metadata": {
    "colab": {
      "provenance": []
    },
    "kernelspec": {
      "name": "python3",
      "display_name": "Python 3"
    },
    "language_info": {
      "name": "python"
    }
  },
  "cells": [
    {
      "cell_type": "markdown",
      "source": [
        "# handout"
      ],
      "metadata": {
        "id": "QJn6dDXRfoa9"
      }
    },
    {
      "cell_type": "code",
      "source": [
        "import random\n",
        "\n",
        "NUM_ROUNDS = 5  # rounds ka number change kar sakte hain\n",
        "\n",
        "def get_user_guess():\n",
        "    while True:\n",
        "        guess = input(\"Do you think your number is higher or lower than the computer's? (type 'exit' to quit): \").strip().lower()\n",
        "        if guess == 'exit':\n",
        "            print(\"Exiting the game. Thanks for playing!\")\n",
        "            return None  # exit signal\n",
        "        elif guess in ['higher', 'lower']:\n",
        "            return guess\n",
        "        else:\n",
        "            print(\"Please enter either 'higher', 'lower', or 'exit'.\")\n",
        "\n",
        "def play_round(round_number):\n",
        "    user_number = random.randint(1, 100)\n",
        "    computer_number = random.randint(1, 100)\n",
        "\n",
        "    print(f\"Round {round_number}\")\n",
        "    print(f\"Your number is {user_number}\")\n",
        "    guess = get_user_guess()\n",
        "\n",
        "    if guess is None:\n",
        "        # exit signal received\n",
        "        return None\n",
        "\n",
        "    if user_number == computer_number:\n",
        "        print(f\"Aww, that's incorrect. The computer's number was {computer_number}\")\n",
        "        return False\n",
        "    elif guess == 'higher' and user_number > computer_number:\n",
        "        print(f\"You were right! The computer's number was {computer_number}\")\n",
        "        return True\n",
        "    elif guess == 'lower' and user_number < computer_number:\n",
        "        print(f\"You were right! The computer's number was {computer_number}\")\n",
        "        return True\n",
        "    else:\n",
        "        print(f\"Aww, that's incorrect. The computer's number was {computer_number}\")\n",
        "        return False\n",
        "\n",
        "def main():\n",
        "    print(\"Welcome to the High-Low Game!\")\n",
        "    print(\"--------------------------------\")\n",
        "\n",
        "    score = 0\n",
        "    for round_num in range(1, NUM_ROUNDS + 1):\n",
        "        result = play_round(round_num)\n",
        "        if result is None:\n",
        "            # user ne exit kiya\n",
        "            break\n",
        "        if result:\n",
        "            score += 1\n",
        "        print(f\"Your score is now {score}\\n\")\n",
        "\n",
        "    print(\"Thanks for playing!\")\n",
        "    if score == NUM_ROUNDS:\n",
        "        print(\"Wow! You played perfectly!\")\n",
        "    elif score >= NUM_ROUNDS // 2:\n",
        "        print(\"Good job, you played really well!\")\n",
        "    else:\n",
        "        print(\"Better luck next time!\")\n",
        "\n",
        "if __name__ == \"__main__\":\n",
        "    main()"
      ],
      "metadata": {
        "colab": {
          "base_uri": "https://localhost:8080/"
        },
        "id": "bMh4OLr1hXML",
        "outputId": "115f3a6c-c971-434d-f443-2c464b6e32ae"
      },
      "execution_count": 4,
      "outputs": [
        {
          "output_type": "stream",
          "name": "stdout",
          "text": [
            "Welcome to the High-Low Game!\n",
            "--------------------------------\n",
            "Round 1\n",
            "Your number is 17\n",
            "Do you think your number is higher or lower than the computer's? (type 'exit' to quit): lower\n",
            "You were right! The computer's number was 43\n",
            "Your score is now 1\n",
            "\n",
            "Round 2\n",
            "Your number is 83\n",
            "Do you think your number is higher or lower than the computer's? (type 'exit' to quit): exit\n",
            "Exiting the game. Thanks for playing!\n",
            "Thanks for playing!\n",
            "Better luck next time!\n"
          ]
        }
      ]
    },
    {
      "cell_type": "markdown",
      "source": [
        "# solution"
      ],
      "metadata": {
        "id": "t5wwEhKRiEZw"
      }
    },
    {
      "cell_type": "code",
      "source": [
        "import random\n",
        "\n",
        "NUM_ROUNDS = 5\n",
        "\n",
        "def main():\n",
        "    print(\"Welcome to the High-Low Game!\")\n",
        "    print('--------------------------------')\n",
        "    print(\"Type 'exit' anytime to quit the game.\")\n",
        "    your_score = 0  # Initialize score\n",
        "\n",
        "    for i in range(NUM_ROUNDS):\n",
        "        print(\"Round\", i + 1)\n",
        "\n",
        "        computer_num = random.randint(1, 100)\n",
        "        your_num = random.randint(1, 100)\n",
        "        print(\"Your number is\", your_num)\n",
        "\n",
        "        choice = input(\"Do you think your number is higher or lower than the computer's? (or type 'exit' to quit): \").lower()\n",
        "        if choice == \"exit\":\n",
        "            print(\"You chose to exit the game. Thanks for playing!\")\n",
        "            print(\"Your final score is\", your_score)\n",
        "            return  # Exit the game immediately\n",
        "\n",
        "        while choice not in (\"higher\", \"lower\"):\n",
        "            choice = input(\"Please enter either 'higher' or 'lower' (or 'exit' to quit): \").lower()\n",
        "            if choice == \"exit\":\n",
        "                print(\"You chose to exit the game. Thanks for playing!\")\n",
        "                print(\"Your final score is\", your_score)\n",
        "                return\n",
        "\n",
        "        higher_and_correct = choice == \"higher\" and your_num > computer_num\n",
        "        lower_and_correct = choice == \"lower\" and your_num < computer_num\n",
        "\n",
        "        if higher_and_correct or lower_and_correct:\n",
        "            print(\"You were right! The computer's number was\", computer_num)\n",
        "            your_score += 1\n",
        "        else:\n",
        "            print(\"Aww, that's incorrect. The computer's number was\", computer_num)\n",
        "\n",
        "        print(\"Your score is now\", your_score)\n",
        "        print()\n",
        "\n",
        "    print(\"Your final score is\", your_score)\n",
        "    if your_score == NUM_ROUNDS:\n",
        "        print(\"Wow! You played perfectly!\")\n",
        "    elif your_score > NUM_ROUNDS // 2:\n",
        "        print(\"Good job, you played really well!\")\n",
        "    else:\n",
        "        print(\"Better luck next time!\")\n",
        "\n",
        "if __name__ == \"__main__\":\n",
        "    main()"
      ],
      "metadata": {
        "colab": {
          "base_uri": "https://localhost:8080/"
        },
        "id": "joCvQ5Sei0_y",
        "outputId": "fecd7a0a-3437-4f3c-8924-847739732ab4"
      },
      "execution_count": 7,
      "outputs": [
        {
          "output_type": "stream",
          "name": "stdout",
          "text": [
            "Welcome to the High-Low Game!\n",
            "--------------------------------\n",
            "Type 'exit' anytime to quit the game.\n",
            "Round 1\n",
            "Your number is 79\n",
            "Do you think your number is higher or lower than the computer's? (or type 'exit' to quit): higher\n",
            "You were right! The computer's number was 11\n",
            "Your score is now 1\n",
            "\n",
            "Round 2\n",
            "Your number is 59\n",
            "Do you think your number is higher or lower than the computer's? (or type 'exit' to quit): exit\n",
            "You chose to exit the game. Thanks for playing!\n",
            "Your final score is 1\n"
          ]
        }
      ]
    },
    {
      "cell_type": "markdown",
      "source": [
        "# starter_code"
      ],
      "metadata": {
        "id": "P50lCVRHjH3H"
      }
    },
    {
      "cell_type": "code",
      "source": [
        "import random\n",
        "\n",
        "NUM_ROUNDS = 5\n",
        "\n",
        "def main():\n",
        "    print(\"Welcome to the High-Low Game!\")\n",
        "    print('--------------------------------')\n",
        "    print(\"Type 'exit' anytime to quit the game.\\n\")\n",
        "\n",
        "    score = 0\n",
        "\n",
        "    for round_num in range(1, NUM_ROUNDS + 1):\n",
        "        print(f\"Round {round_num}:\")\n",
        "        secret_number = random.randint(1, 100)\n",
        "        attempts = 0\n",
        "        guessed_correctly = False\n",
        "\n",
        "        while not guessed_correctly:\n",
        "            user_input = input(\"Guess a number between 1 and 100 (or type 'exit' to quit): \").strip()\n",
        "\n",
        "            if user_input.lower() == 'exit':\n",
        "                print(\"\\nYou chose to exit the game early.\")\n",
        "                print(f\"You won {score} out of {round_num - 1} completed rounds.\")\n",
        "                return\n",
        "\n",
        "            try:\n",
        "                guess = int(user_input)\n",
        "                attempts += 1\n",
        "\n",
        "                if guess < secret_number:\n",
        "                    print(\"Too low! Try again.\")\n",
        "                elif guess > secret_number:\n",
        "                    print(\"Too high! Try again.\")\n",
        "                else:\n",
        "                    print(f\"Correct! You guessed it in {attempts} tries.\")\n",
        "                    score += 1\n",
        "                    guessed_correctly = True\n",
        "            except ValueError:\n",
        "                print(\"Invalid input! Please enter a number or 'exit'.\")\n",
        "\n",
        "    print(\"\\n--------------------------------\")\n",
        "    print(f\"Game Over! You won {score} out of {NUM_ROUNDS} rounds.\")\n",
        "    print(\"Thanks for playing!\")\n",
        "\n",
        "if __name__ == \"__main__\":\n",
        "    main()"
      ],
      "metadata": {
        "colab": {
          "base_uri": "https://localhost:8080/"
        },
        "id": "FkGD6Wa2jeyQ",
        "outputId": "d4036ceb-ce3e-41a1-ee7f-edab594e4790"
      },
      "execution_count": 9,
      "outputs": [
        {
          "output_type": "stream",
          "name": "stdout",
          "text": [
            "Welcome to the High-Low Game!\n",
            "--------------------------------\n",
            "Type 'exit' anytime to quit the game.\n",
            "\n",
            "Round 1:\n",
            "Guess a number between 1 and 100 (or type 'exit' to quit): 3\n",
            "Too low! Try again.\n",
            "Guess a number between 1 and 100 (or type 'exit' to quit): exit\n",
            "\n",
            "You chose to exit the game early.\n",
            "You won 0 out of 0 completed rounds.\n"
          ]
        }
      ]
    }
  ]
}