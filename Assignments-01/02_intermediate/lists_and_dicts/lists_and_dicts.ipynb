{
  "nbformat": 4,
  "nbformat_minor": 0,
  "metadata": {
    "colab": {
      "provenance": []
    },
    "kernelspec": {
      "name": "python3",
      "display_name": "Python 3"
    },
    "language_info": {
      "name": "python"
    }
  },
  "cells": [
    {
      "cell_type": "markdown",
      "source": [
        "# handout"
      ],
      "metadata": {
        "id": "VEf1cxUonqTg"
      }
    },
    {
      "cell_type": "code",
      "source": [
        "# ----------------------------\n",
        "# Problem #1: List Practice\n",
        "# ----------------------------\n",
        "\n",
        "def list_practice():\n",
        "    # Create a list called fruit_list\n",
        "    fruit_list = ['apple', 'banana', 'orange', 'grape', 'pineapple']\n",
        "\n",
        "    # Print the length of the list\n",
        "    print(\"Length of the list:\", len(fruit_list))\n",
        "\n",
        "    # Add 'mango' at the end of the list\n",
        "    fruit_list.append('mango')\n",
        "\n",
        "    # Print the updated list\n",
        "    print(\"Updated list:\", fruit_list)\n",
        "\n",
        "\n",
        "# ----------------------------\n",
        "# Problem #2: Index Game\n",
        "# ----------------------------\n",
        "\n",
        "def access_element(my_list, index):\n",
        "    try:\n",
        "        return f\"Element at index {index} is: {my_list[index]}\"\n",
        "    except IndexError:\n",
        "        return \"Index out of range!\"\n",
        "\n",
        "def modify_element(my_list, index, new_value):\n",
        "    try:\n",
        "        old_value = my_list[index]\n",
        "        my_list[index] = new_value\n",
        "        return f\"Replaced '{old_value}' with '{new_value}' at index {index}.\"\n",
        "    except IndexError:\n",
        "        return \"Index out of range!\"\n",
        "\n",
        "def slice_list(my_list, start, end):\n",
        "    # Slice with safe bounds\n",
        "    sliced = my_list[max(0, start):min(len(my_list), end)]\n",
        "    return f\"Sliced list from index {start} to {end}: {sliced}\"\n",
        "\n",
        "def play_index_game():\n",
        "    # Sample list\n",
        "    my_list = ['red', 'blue', 'green', 'yellow', 'purple']\n",
        "\n",
        "    print(\"\\nWelcome to the Index Game!\")\n",
        "    print(f\"Current list: {my_list}\")\n",
        "\n",
        "    while True:\n",
        "        print(\"\\nChoose an operation:\")\n",
        "        print(\"1. Access element\")\n",
        "        print(\"2. Modify element\")\n",
        "        print(\"3. Slice the list\")\n",
        "        print(\"4. Exit\")\n",
        "\n",
        "        choice = input(\"Enter your choice (1-4): \")\n",
        "\n",
        "        if choice == '1':\n",
        "            try:\n",
        "                idx = int(input(\"Enter index to access: \"))\n",
        "                print(access_element(my_list, idx))\n",
        "            except ValueError:\n",
        "                print(\"Please enter a valid integer index.\")\n",
        "\n",
        "        elif choice == '2':\n",
        "            try:\n",
        "                idx = int(input(\"Enter index to modify: \"))\n",
        "                new_val = input(\"Enter new value: \")\n",
        "                print(modify_element(my_list, idx, new_val))\n",
        "                print(\"Updated list:\", my_list)\n",
        "            except ValueError:\n",
        "                print(\"Please enter a valid index.\")\n",
        "\n",
        "        elif choice == '3':\n",
        "            try:\n",
        "                start = int(input(\"Enter start index: \"))\n",
        "                end = int(input(\"Enter end index: \"))\n",
        "                print(slice_list(my_list, start, end))\n",
        "            except ValueError:\n",
        "                print(\"Please enter valid integer indices.\")\n",
        "\n",
        "        elif choice == '4':\n",
        "            print(\"Thanks for playing!\")\n",
        "            break\n",
        "\n",
        "        else:\n",
        "            print(\"Invalid choice. Please select 1-4.\")\n",
        "\n",
        "# ----------------------------\n",
        "# Run the Programs\n",
        "# ----------------------------\n",
        "\n",
        "if __name__ == \"__main__\":\n",
        "    print(\"=== Problem #1: List Practice ===\")\n",
        "    list_practice()\n",
        "\n",
        "    print(\"\\n=== Problem #2: Index Game ===\")\n",
        "    play_index_game()"
      ],
      "metadata": {
        "colab": {
          "base_uri": "https://localhost:8080/"
        },
        "id": "_FPQwmL4ny6-",
        "outputId": "91ac1ddc-9d65-43f8-dad7-d494598cb7a9"
      },
      "execution_count": 1,
      "outputs": [
        {
          "output_type": "stream",
          "name": "stdout",
          "text": [
            "=== Problem #1: List Practice ===\n",
            "Length of the list: 5\n",
            "Updated list: ['apple', 'banana', 'orange', 'grape', 'pineapple', 'mango']\n",
            "\n",
            "=== Problem #2: Index Game ===\n",
            "\n",
            "Welcome to the Index Game!\n",
            "Current list: ['red', 'blue', 'green', 'yellow', 'purple']\n",
            "\n",
            "Choose an operation:\n",
            "1. Access element\n",
            "2. Modify element\n",
            "3. Slice the list\n",
            "4. Exit\n",
            "Enter your choice (1-4): 1\n",
            "Enter index to access: 5\n",
            "Index out of range!\n",
            "\n",
            "Choose an operation:\n",
            "1. Access element\n",
            "2. Modify element\n",
            "3. Slice the list\n",
            "4. Exit\n",
            "Enter your choice (1-4): 4\n",
            "Thanks for playing!\n"
          ]
        }
      ]
    },
    {
      "cell_type": "markdown",
      "source": [
        "# solution"
      ],
      "metadata": {
        "id": "ZgeVPtGkob74"
      }
    },
    {
      "cell_type": "code",
      "source": [
        "def main():\n",
        "    # Step 1: Create a list called fruit_list\n",
        "    fruit_list = ['apple', 'banana', 'orange', 'grape', 'pineapple']\n",
        "\n",
        "    # Step 2: Print the length of the list\n",
        "    print(\"Length of the list:\", len(fruit_list))\n",
        "\n",
        "    # Step 3: Add 'mango' at the end of the list\n",
        "    fruit_list.append('mango')\n",
        "\n",
        "    # Step 4: Print the updated list\n",
        "    print(\"Updated list:\")\n",
        "    for fruit in fruit_list:\n",
        "        print(fruit)\n",
        "\n",
        "if __name__ == '__main__':\n",
        "    main()"
      ],
      "metadata": {
        "colab": {
          "base_uri": "https://localhost:8080/"
        },
        "id": "zUpUQzgAojGr",
        "outputId": "274e6f69-841a-4ece-fa2a-46ad862c96c6"
      },
      "execution_count": 2,
      "outputs": [
        {
          "output_type": "stream",
          "name": "stdout",
          "text": [
            "Length of the list: 5\n",
            "Updated list:\n",
            "apple\n",
            "banana\n",
            "orange\n",
            "grape\n",
            "pineapple\n",
            "mango\n"
          ]
        }
      ]
    }
  ]
}