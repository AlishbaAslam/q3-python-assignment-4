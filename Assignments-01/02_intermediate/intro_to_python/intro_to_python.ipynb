{
  "nbformat": 4,
  "nbformat_minor": 0,
  "metadata": {
    "colab": {
      "provenance": []
    },
    "kernelspec": {
      "name": "python3",
      "display_name": "Python 3"
    },
    "language_info": {
      "name": "python"
    }
  },
  "cells": [
    {
      "cell_type": "markdown",
      "source": [
        "# handout"
      ],
      "metadata": {
        "id": "Ep6lzGS0kick"
      }
    },
    {
      "cell_type": "code",
      "source": [
        "# Dictionary containing gravity factors of planets relative to Earth\n",
        "gravity_factors = {\n",
        "    \"Mercury\": 0.376,\n",
        "    \"Venus\": 0.889,\n",
        "    \"Mars\": 0.378,\n",
        "    \"Jupiter\": 2.36,\n",
        "    \"Saturn\": 1.081,\n",
        "    \"Uranus\": 0.815,\n",
        "    \"Neptune\": 1.14\n",
        "}\n",
        "\n",
        "# Step 1: Get user's weight on Earth\n",
        "try:\n",
        "    earth_weight = float(input(\"Enter a weight on Earth: \"))\n",
        "except ValueError:\n",
        "    print(\"Please enter a valid number for weight.\")\n",
        "    exit()\n",
        "\n",
        "# Step 2: Get the planet name from user\n",
        "planet = input(\"Enter a planet: \")\n",
        "\n",
        "# Step 3: Check if the planet is valid and calculate the weight\n",
        "if planet in gravity_factors:\n",
        "    planet_weight = earth_weight * gravity_factors[planet]\n",
        "    print(f\"The equivalent weight on {planet}: {round(planet_weight, 2)}\")\n",
        "else:\n",
        "    print(\"Invalid planet name. Please enter one of the following:\")\n",
        "    print(\", \".join(gravity_factors.keys()))"
      ],
      "metadata": {
        "colab": {
          "base_uri": "https://localhost:8080/"
        },
        "id": "p5y30kSTkphN",
        "outputId": "037aff74-451b-46e0-ae57-ed4410844576"
      },
      "execution_count": 1,
      "outputs": [
        {
          "output_type": "stream",
          "name": "stdout",
          "text": [
            "Enter a weight on Earth: 37.8\n",
            "Enter a planet: Mars\n",
            "The equivalent weight on Mars: 14.29\n"
          ]
        }
      ]
    },
    {
      "cell_type": "markdown",
      "source": [
        "# solution"
      ],
      "metadata": {
        "id": "QEkNgSbXlmFP"
      }
    },
    {
      "cell_type": "code",
      "source": [
        "# Gravitational constants relative to Earth\n",
        "MERCURY_GRAVITY = 0.376\n",
        "VENUS_GRAVITY = 0.889\n",
        "MARS_GRAVITY = 0.378\n",
        "JUPITER_GRAVITY = 2.36\n",
        "SATURN_GRAVITY = 1.081\n",
        "URANUS_GRAVITY = 0.815\n",
        "NEPTUNE_GRAVITY = 1.14\n",
        "EARTH_GRAVITY = 1.0  # for reference\n",
        "\n",
        "def main():\n",
        "    # Prompt the user for their weight on Earth\n",
        "    earth_weight = float(input(\"Enter a weight on Earth: \"))\n",
        "\n",
        "    # Prompt the user for the name of a planet\n",
        "    planet = input(\"Enter a planet: \")\n",
        "\n",
        "    # Determine the gravitational constant for the selected planet\n",
        "    if planet == \"Mercury\":\n",
        "        gravity_constant = MERCURY_GRAVITY\n",
        "    elif planet == \"Venus\":\n",
        "        gravity_constant = VENUS_GRAVITY\n",
        "    elif planet == \"Mars\":\n",
        "        gravity_constant = MARS_GRAVITY\n",
        "    elif planet == \"Jupiter\":\n",
        "        gravity_constant = JUPITER_GRAVITY\n",
        "    elif planet == \"Saturn\":\n",
        "        gravity_constant = SATURN_GRAVITY\n",
        "    elif planet == \"Uranus\":\n",
        "        gravity_constant = URANUS_GRAVITY\n",
        "    else:  # We assume it's Neptune if not any of the above\n",
        "        gravity_constant = NEPTUNE_GRAVITY\n",
        "\n",
        "    # Calculate the equivalent weight on the selected planet\n",
        "    planetary_weight = earth_weight * gravity_constant\n",
        "    rounded_planetary_weight = round(planetary_weight, 2)\n",
        "\n",
        "    # Print the result\n",
        "    print(\"The equivalent weight on \" + planet + \": \" + str(rounded_planetary_weight))\n",
        "\n",
        "if __name__ == \"__main__\":\n",
        "    main()"
      ],
      "metadata": {
        "colab": {
          "base_uri": "https://localhost:8080/"
        },
        "id": "ddv-NJ6Nls0y",
        "outputId": "8b83cf2b-c6fe-4702-d64a-764517ed720a"
      },
      "execution_count": 2,
      "outputs": [
        {
          "output_type": "stream",
          "name": "stdout",
          "text": [
            "Enter a weight on Earth: 120\n",
            "Enter a planet: Jupiter\n",
            "The equivalent weight on Jupiter: 283.2\n"
          ]
        }
      ]
    },
    {
      "cell_type": "markdown",
      "source": [
        "# starter_code"
      ],
      "metadata": {
        "id": "WD9GSiQ_mHjA"
      }
    },
    {
      "cell_type": "code",
      "source": [
        "def main():\n",
        "    # Planet gravity relative to Earth\n",
        "    gravity = {\n",
        "        \"Mercury\": 0.38,\n",
        "        \"Venus\": 0.91,\n",
        "        \"Mars\": 0.38,\n",
        "        \"Jupiter\": 2.34,\n",
        "        \"Saturn\": 1.06,\n",
        "        \"Uranus\": 0.92,\n",
        "        \"Neptune\": 1.19,\n",
        "        \"Pluto\": 0.06\n",
        "    }\n",
        "\n",
        "    # Get user input\n",
        "    earth_weight = float(input(\"Enter your weight on Earth (kg): \"))\n",
        "    planet = input(\"Enter the name of the planet (e.g., Mars): \")\n",
        "\n",
        "    # Get gravity factor and calculate weight\n",
        "    if planet in gravity:\n",
        "        planet_weight = earth_weight * gravity[planet]\n",
        "        print(f\"Your weight on {planet} would be {planet_weight:.2f} kg.\")\n",
        "    else:\n",
        "        print(\"That planet is not in our database.\")\n",
        "\n",
        "if __name__ == \"__main__\":\n",
        "    main()"
      ],
      "metadata": {
        "colab": {
          "base_uri": "https://localhost:8080/"
        },
        "id": "EmIk2Z4nmMwT",
        "outputId": "9b705ea6-d503-44c3-abc9-e1113a47a4d9"
      },
      "execution_count": 3,
      "outputs": [
        {
          "output_type": "stream",
          "name": "stdout",
          "text": [
            "Enter your weight on Earth (kg): 130\n",
            "Enter the name of the planet (e.g., Mars): Mars\n",
            "Your weight on Mars would be 49.40 kg.\n"
          ]
        }
      ]
    }
  ]
}